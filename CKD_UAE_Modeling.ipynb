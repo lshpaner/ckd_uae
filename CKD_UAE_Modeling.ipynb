{
  "cells": [
    {
      "cell_type": "code",
      "execution_count": 1,
      "metadata": {
        "colab": {
          "base_uri": "https://localhost:8080/"
        },
        "id": "t5QW-3GXVG6A",
        "outputId": "c7c776b2-9bcb-45c9-a21a-6db85e049d2c"
      },
      "outputs": [
        {
          "output_type": "stream",
          "name": "stdout",
          "text": [
            "Drive already mounted at /content/drive; to attempt to forcibly remount, call drive.mount(\"/content/drive\", force_remount=True).\n",
            "/content/drive/MyDrive/ckd_uae\n"
          ]
        }
      ],
      "source": [
        "from google.colab import drive\n",
        "\n",
        "drive.mount(\"/content/drive\")\n",
        "\n",
        "%cd '/content/drive/MyDrive/ckd_uae/'\n",
        "\n",
        "!source /content/drive/MyDrive/ckd_env/bin/activate"
      ]
    },
    {
      "cell_type": "code",
      "source": [
        "# !pip install aequitas lifelines"
      ],
      "metadata": {
        "id": "C7f1K2MulNDw"
      },
      "execution_count": 2,
      "outputs": []
    },
    {
      "cell_type": "markdown",
      "source": [
        "# Modeling: CKD_UAE"
      ],
      "metadata": {
        "id": "M6laFR25SC3j"
      }
    },
    {
      "cell_type": "code",
      "execution_count": 3,
      "metadata": {
        "id": "oewfXGx-DuJP"
      },
      "outputs": [],
      "source": [
        "import pandas as pd\n",
        "import numpy as np\n",
        "import matplotlib.pyplot as plt\n",
        "import seaborn as sns\n",
        "import os\n",
        "import subprocess\n",
        "\n",
        "##################### import model libraries ###################################\n",
        "from sklearn.linear_model import LogisticRegression\n",
        "from sklearn.svm import SVC\n",
        "from sklearn.ensemble import RandomForestClassifier, ExtraTreesClassifier\n",
        "from sklearn.pipeline import Pipeline\n",
        "from sklearn.model_selection import GridSearchCV\n",
        "from sklearn.preprocessing import StandardScaler\n",
        "from lifelines import CoxPHFitter, KaplanMeierFitter\n",
        "################################################################################\n",
        "\n",
        "######################### import model metrics #################################\n",
        "from sklearn.metrics import (\n",
        "    roc_curve,\n",
        "    auc,\n",
        "    precision_score,\n",
        "    recall_score,\n",
        "    average_precision_score,\n",
        "    precision_recall_curve,\n",
        "    brier_score_loss,\n",
        "    confusion_matrix,\n",
        ")\n",
        "\n",
        "######################## import calibration techniques #########################\n",
        "from sklearn.calibration import calibration_curve, CalibratedClassifierCV\n",
        "\n",
        "################################################################################\n",
        "\n",
        "from tqdm import tqdm\n",
        "import warnings\n",
        "\n",
        "warnings.filterwarnings(\"ignore\")\n",
        "\n",
        "from functions import *  # import custom functions\n",
        "\n",
        "from aequitas import Audit  # library for Bias & Fairness Analysis"
      ]
    },
    {
      "cell_type": "code",
      "execution_count": 4,
      "metadata": {
        "id": "5pXDRXE1GXcZ"
      },
      "outputs": [],
      "source": [
        "# Change directory to where functions.py is located if it's not in '/content'\n",
        "data_original = \"/content/drive/MyDrive/ckd_uae/data/df_original/\"\n",
        "data_years = \"/content/drive/MyDrive/ckd_uae/data/df_years/\"\n",
        "data_eda = \"/content/drive/MyDrive/ckd_uae/data/df_eda/\""
      ]
    },
    {
      "cell_type": "code",
      "execution_count": 5,
      "metadata": {
        "id": "2p7lav3TD-Oj"
      },
      "outputs": [],
      "source": [
        "# save out the split datasets to separate parquet files\n",
        "X_train = pd.read_parquet(os.path.join(data_original, \"X_train.parquet\"))\n",
        "X_test = pd.read_parquet(os.path.join(data_original, \"X_test.parquet\"))\n",
        "y_train = pd.read_parquet(os.path.join(data_original, \"y_train.parquet\"))\n",
        "y_test = pd.read_parquet(os.path.join(data_original, \"y_test.parquet\"))\n",
        "df_train = pd.read_parquet(os.path.join(data_original, \"df_train.parquet\"))\n",
        "df_test = pd.read_parquet(os.path.join(data_original, \"df_test.parquet\"))\n",
        "df = pd.read_parquet(os.path.join(data_original, \"df_original.parquet\"))\n",
        "df_eda = pd.read_parquet(os.path.join(data_eda, \"df_eda.parquet\"))"
      ]
    },
    {
      "cell_type": "code",
      "execution_count": 6,
      "metadata": {
        "id": "1HnnOsep85NV"
      },
      "outputs": [],
      "source": [
        "## CPH-related joins to parse in \"time_years\" column and drop \"time_months\" col.\n",
        "cph_train = df_train.join(df_eda[\"time_years\"], on=\"id\", how=\"inner\").drop(\n",
        "    columns=[\"time_months\"]\n",
        ")\n",
        "cph_test = df_test.join(df_eda[\"time_years\"], on=\"id\", how=\"inner\").drop(\n",
        "    columns=[\"time_months\"]\n",
        ")"
      ]
    },
    {
      "cell_type": "markdown",
      "metadata": {
        "id": "qGZYlmriRilp"
      },
      "source": [
        "## Cox Proportional Hazards (CPH) Model"
      ]
    },
    {
      "cell_type": "code",
      "execution_count": 7,
      "metadata": {
        "id": "8KXtPntCRTh2",
        "colab": {
          "base_uri": "https://localhost:8080/"
        },
        "outputId": "c140c5cf-d8e4-4d73-a936-fa7d935a33cb"
      },
      "outputs": [
        {
          "output_type": "stream",
          "name": "stdout",
          "text": [
            "\rIteration 1: norm_delta = 9.93e-01, step_size = 0.9500, log_lik = -107046.54058, newton_decrement = 5.73e+03, seconds_since_start = 0.0\n",
            "\rIteration 2: norm_delta = 3.95e-01, step_size = 0.9500, log_lik = -102616.29589, newton_decrement = 5.67e+02, seconds_since_start = 0.1\n",
            "\rIteration 3: norm_delta = 2.22e-02, step_size = 0.9500, log_lik = -102088.67088, newton_decrement = 2.94e+00, seconds_since_start = 0.1\n",
            "\rIteration 4: norm_delta = 2.30e-04, step_size = 1.0000, log_lik = -102085.71877, newton_decrement = 2.18e-04, seconds_since_start = 0.1\n",
            "\rIteration 5: norm_delta = 2.08e-08, step_size = 1.0000, log_lik = -102085.71855, newton_decrement = 2.91e-12, seconds_since_start = 0.1\n",
            "Convergence success after 5 iterations.\n"
          ]
        },
        {
          "output_type": "execute_result",
          "data": {
            "text/plain": [
              "<lifelines.CoxPHFitter: fitted with 70882.7 total observations, 61087.7 right-censored observations>"
            ]
          },
          "metadata": {},
          "execution_count": 7
        }
      ],
      "source": [
        "# Instantiate the CoxPHFitter\n",
        "cph = CoxPHFitter(\n",
        "    baseline_estimation_method=\"breslow\",\n",
        ")\n",
        "\n",
        "# Fit the model with additional options for the optimization routine\n",
        "cph.fit(\n",
        "    cph_train,\n",
        "    duration_col=\"time_years\",\n",
        "    event_col=\"outcome\",\n",
        "    weights_col=\"creatinine\",\n",
        "    robust=True,\n",
        "    show_progress=True,\n",
        ")"
      ]
    },
    {
      "cell_type": "code",
      "execution_count": 8,
      "metadata": {
        "id": "tslfourBRkIt",
        "colab": {
          "base_uri": "https://localhost:8080/"
        },
        "outputId": "69a6d3af-d378-4ac0-da41-ba44400cd32c"
      },
      "outputs": [
        {
          "output_type": "execute_result",
          "data": {
            "text/plain": [
              "(0.7851420554191512, 0.7851420554191512)"
            ]
          },
          "metadata": {},
          "execution_count": 8
        }
      ],
      "source": [
        "# To evaluate the model, we will use the predict method on the test set and then\n",
        "# calculate the concordance index\n",
        "cph_train_score = cph.score(cph_train, scoring_method=\"concordance_index\")\n",
        "cph_validation_score = cph.score(cph_train, scoring_method=\"concordance_index\")\n",
        "\n",
        "cph_train_score, cph_validation_score"
      ]
    },
    {
      "cell_type": "code",
      "execution_count": 9,
      "metadata": {
        "id": "QjoLmLWcRq7M",
        "colab": {
          "base_uri": "https://localhost:8080/",
          "height": 757
        },
        "outputId": "c32b0a2b-9cbe-458f-9e7e-f48035cf996c"
      },
      "outputs": [
        {
          "output_type": "display_data",
          "data": {
            "text/plain": [
              "<lifelines.CoxPHFitter: fitted with 70882.7 total observations, 61087.7 right-censored observations>\n",
              "             duration col = 'time_years'\n",
              "                event col = 'outcome'\n",
              "              weights col = 'creatinine'\n",
              "          robust variance = True\n",
              "      baseline estimation = breslow\n",
              "   number of observations = 70882.7\n",
              "number of events observed = 9795\n",
              "   partial log-likelihood = -102085.72\n",
              "         time fit was run = 2024-03-20 20:57:57 UTC\n",
              "\n",
              "---\n",
              "                         coef  exp(coef)   se(coef)   coef lower 95%   coef upper 95%  exp(coef) lower 95%  exp(coef) upper 95%\n",
              "covariate                                                                                                                      \n",
              "sex                      0.09       1.10       0.30            -0.50             0.68                 0.61                 1.98\n",
              "cancer                   0.62       1.85       0.33            -0.02             1.25                 0.98                 3.50\n",
              "smoking                  0.09       1.09       0.28            -0.46             0.64                 0.63                 1.90\n",
              "obesity                 -0.71       0.49       0.25            -1.21            -0.22                 0.30                 0.81\n",
              "hypertension             0.87       2.39       0.42             0.05             1.70                 1.05                 5.46\n",
              "dyslipidemia            -1.10       0.33       0.42            -1.91            -0.28                 0.15                 0.76\n",
              "diabetes                 0.57       1.76       0.30            -0.01             1.15                 0.99                 3.15\n",
              "cardiovascular_disease   1.39       4.00       0.26             0.89             1.89                 2.43                 6.60\n",
              "\n",
              "                         cmp to     z      p   -log2(p)\n",
              "covariate                                              \n",
              "sex                        0.00  0.31   0.75       0.41\n",
              "cancer                     0.00  1.89   0.06       4.08\n",
              "smoking                    0.00  0.32   0.75       0.41\n",
              "obesity                    0.00 -2.81 <0.005       7.65\n",
              "hypertension               0.00  2.07   0.04       4.70\n",
              "dyslipidemia               0.00 -2.63   0.01       6.86\n",
              "diabetes                   0.00  1.91   0.06       4.17\n",
              "cardiovascular_disease     0.00  5.44 <0.005      24.13\n",
              "---\n",
              "Concordance = 0.79\n",
              "Partial AIC = 204187.44\n",
              "log-likelihood ratio test = 9921.64 on 8 df\n",
              "-log2(p) of ll-ratio test = inf"
            ],
            "text/html": [
              "<div>\n",
              "<style scoped>\n",
              "    .dataframe tbody tr th:only-of-type {\n",
              "        vertical-align: middle;\n",
              "    }\n",
              "\n",
              "    .dataframe tbody tr th {\n",
              "        vertical-align: top;\n",
              "    }\n",
              "\n",
              "    .dataframe thead th {\n",
              "        text-align: right;\n",
              "    }\n",
              "</style>\n",
              "<table border=\"1\" class=\"dataframe\">\n",
              "  <tbody>\n",
              "    <tr>\n",
              "      <th>model</th>\n",
              "      <td>lifelines.CoxPHFitter</td>\n",
              "    </tr>\n",
              "    <tr>\n",
              "      <th>duration col</th>\n",
              "      <td>'time_years'</td>\n",
              "    </tr>\n",
              "    <tr>\n",
              "      <th>event col</th>\n",
              "      <td>'outcome'</td>\n",
              "    </tr>\n",
              "    <tr>\n",
              "      <th>weights col</th>\n",
              "      <td>'creatinine'</td>\n",
              "    </tr>\n",
              "    <tr>\n",
              "      <th>robust variance</th>\n",
              "      <td>True</td>\n",
              "    </tr>\n",
              "    <tr>\n",
              "      <th>baseline estimation</th>\n",
              "      <td>breslow</td>\n",
              "    </tr>\n",
              "    <tr>\n",
              "      <th>number of observations</th>\n",
              "      <td>70882.7</td>\n",
              "    </tr>\n",
              "    <tr>\n",
              "      <th>number of events observed</th>\n",
              "      <td>9795</td>\n",
              "    </tr>\n",
              "    <tr>\n",
              "      <th>partial log-likelihood</th>\n",
              "      <td>-102085.72</td>\n",
              "    </tr>\n",
              "    <tr>\n",
              "      <th>time fit was run</th>\n",
              "      <td>2024-03-20 20:57:57 UTC</td>\n",
              "    </tr>\n",
              "  </tbody>\n",
              "</table>\n",
              "</div><table border=\"1\" class=\"dataframe\">\n",
              "  <thead>\n",
              "    <tr style=\"text-align: right;\">\n",
              "      <th style=\"min-width: 12px;\"></th>\n",
              "      <th style=\"min-width: 12px;\">coef</th>\n",
              "      <th style=\"min-width: 12px;\">exp(coef)</th>\n",
              "      <th style=\"min-width: 12px;\">se(coef)</th>\n",
              "      <th style=\"min-width: 12px;\">coef lower 95%</th>\n",
              "      <th style=\"min-width: 12px;\">coef upper 95%</th>\n",
              "      <th style=\"min-width: 12px;\">exp(coef) lower 95%</th>\n",
              "      <th style=\"min-width: 12px;\">exp(coef) upper 95%</th>\n",
              "      <th style=\"min-width: 12px;\">cmp to</th>\n",
              "      <th style=\"min-width: 12px;\">z</th>\n",
              "      <th style=\"min-width: 12px;\">p</th>\n",
              "      <th style=\"min-width: 12px;\">-log2(p)</th>\n",
              "    </tr>\n",
              "  </thead>\n",
              "  <tbody>\n",
              "    <tr>\n",
              "      <th>sex</th>\n",
              "      <td>0.09</td>\n",
              "      <td>1.10</td>\n",
              "      <td>0.30</td>\n",
              "      <td>-0.50</td>\n",
              "      <td>0.68</td>\n",
              "      <td>0.61</td>\n",
              "      <td>1.98</td>\n",
              "      <td>0.00</td>\n",
              "      <td>0.31</td>\n",
              "      <td>0.75</td>\n",
              "      <td>0.41</td>\n",
              "    </tr>\n",
              "    <tr>\n",
              "      <th>cancer</th>\n",
              "      <td>0.62</td>\n",
              "      <td>1.85</td>\n",
              "      <td>0.33</td>\n",
              "      <td>-0.02</td>\n",
              "      <td>1.25</td>\n",
              "      <td>0.98</td>\n",
              "      <td>3.50</td>\n",
              "      <td>0.00</td>\n",
              "      <td>1.89</td>\n",
              "      <td>0.06</td>\n",
              "      <td>4.08</td>\n",
              "    </tr>\n",
              "    <tr>\n",
              "      <th>smoking</th>\n",
              "      <td>0.09</td>\n",
              "      <td>1.09</td>\n",
              "      <td>0.28</td>\n",
              "      <td>-0.46</td>\n",
              "      <td>0.64</td>\n",
              "      <td>0.63</td>\n",
              "      <td>1.90</td>\n",
              "      <td>0.00</td>\n",
              "      <td>0.32</td>\n",
              "      <td>0.75</td>\n",
              "      <td>0.41</td>\n",
              "    </tr>\n",
              "    <tr>\n",
              "      <th>obesity</th>\n",
              "      <td>-0.71</td>\n",
              "      <td>0.49</td>\n",
              "      <td>0.25</td>\n",
              "      <td>-1.21</td>\n",
              "      <td>-0.22</td>\n",
              "      <td>0.30</td>\n",
              "      <td>0.81</td>\n",
              "      <td>0.00</td>\n",
              "      <td>-2.81</td>\n",
              "      <td>&lt;0.005</td>\n",
              "      <td>7.65</td>\n",
              "    </tr>\n",
              "    <tr>\n",
              "      <th>hypertension</th>\n",
              "      <td>0.87</td>\n",
              "      <td>2.39</td>\n",
              "      <td>0.42</td>\n",
              "      <td>0.05</td>\n",
              "      <td>1.70</td>\n",
              "      <td>1.05</td>\n",
              "      <td>5.46</td>\n",
              "      <td>0.00</td>\n",
              "      <td>2.07</td>\n",
              "      <td>0.04</td>\n",
              "      <td>4.70</td>\n",
              "    </tr>\n",
              "    <tr>\n",
              "      <th>dyslipidemia</th>\n",
              "      <td>-1.10</td>\n",
              "      <td>0.33</td>\n",
              "      <td>0.42</td>\n",
              "      <td>-1.91</td>\n",
              "      <td>-0.28</td>\n",
              "      <td>0.15</td>\n",
              "      <td>0.76</td>\n",
              "      <td>0.00</td>\n",
              "      <td>-2.63</td>\n",
              "      <td>0.01</td>\n",
              "      <td>6.86</td>\n",
              "    </tr>\n",
              "    <tr>\n",
              "      <th>diabetes</th>\n",
              "      <td>0.57</td>\n",
              "      <td>1.76</td>\n",
              "      <td>0.30</td>\n",
              "      <td>-0.01</td>\n",
              "      <td>1.15</td>\n",
              "      <td>0.99</td>\n",
              "      <td>3.15</td>\n",
              "      <td>0.00</td>\n",
              "      <td>1.91</td>\n",
              "      <td>0.06</td>\n",
              "      <td>4.17</td>\n",
              "    </tr>\n",
              "    <tr>\n",
              "      <th>cardiovascular_disease</th>\n",
              "      <td>1.39</td>\n",
              "      <td>4.00</td>\n",
              "      <td>0.26</td>\n",
              "      <td>0.89</td>\n",
              "      <td>1.89</td>\n",
              "      <td>2.43</td>\n",
              "      <td>6.60</td>\n",
              "      <td>0.00</td>\n",
              "      <td>5.44</td>\n",
              "      <td>&lt;0.005</td>\n",
              "      <td>24.13</td>\n",
              "    </tr>\n",
              "  </tbody>\n",
              "</table><br><div>\n",
              "<style scoped>\n",
              "    .dataframe tbody tr th:only-of-type {\n",
              "        vertical-align: middle;\n",
              "    }\n",
              "\n",
              "    .dataframe tbody tr th {\n",
              "        vertical-align: top;\n",
              "    }\n",
              "\n",
              "    .dataframe thead th {\n",
              "        text-align: right;\n",
              "    }\n",
              "</style>\n",
              "<table border=\"1\" class=\"dataframe\">\n",
              "  <tbody>\n",
              "    <tr>\n",
              "      <th>Concordance</th>\n",
              "      <td>0.79</td>\n",
              "    </tr>\n",
              "    <tr>\n",
              "      <th>Partial AIC</th>\n",
              "      <td>204187.44</td>\n",
              "    </tr>\n",
              "    <tr>\n",
              "      <th>log-likelihood ratio test</th>\n",
              "      <td>9921.64 on 8 df</td>\n",
              "    </tr>\n",
              "    <tr>\n",
              "      <th>-log2(p) of ll-ratio test</th>\n",
              "      <td>inf</td>\n",
              "    </tr>\n",
              "  </tbody>\n",
              "</table>\n",
              "</div>"
            ],
            "text/latex": "\\begin{tabular}{lrrrrrrrrrrr}\n & coef & exp(coef) & se(coef) & coef lower 95% & coef upper 95% & exp(coef) lower 95% & exp(coef) upper 95% & cmp to & z & p & -log2(p) \\\\\ncovariate &  &  &  &  &  &  &  &  &  &  &  \\\\\nsex & 0.09 & 1.10 & 0.30 & -0.50 & 0.68 & 0.61 & 1.98 & 0.00 & 0.31 & 0.75 & 0.41 \\\\\ncancer & 0.62 & 1.85 & 0.33 & -0.02 & 1.25 & 0.98 & 3.50 & 0.00 & 1.89 & 0.06 & 4.08 \\\\\nsmoking & 0.09 & 1.09 & 0.28 & -0.46 & 0.64 & 0.63 & 1.90 & 0.00 & 0.32 & 0.75 & 0.41 \\\\\nobesity & -0.71 & 0.49 & 0.25 & -1.21 & -0.22 & 0.30 & 0.81 & 0.00 & -2.81 & 0.00 & 7.65 \\\\\nhypertension & 0.87 & 2.39 & 0.42 & 0.05 & 1.70 & 1.05 & 5.46 & 0.00 & 2.07 & 0.04 & 4.70 \\\\\ndyslipidemia & -1.10 & 0.33 & 0.42 & -1.91 & -0.28 & 0.15 & 0.76 & 0.00 & -2.63 & 0.01 & 6.86 \\\\\ndiabetes & 0.57 & 1.76 & 0.30 & -0.01 & 1.15 & 0.99 & 3.15 & 0.00 & 1.91 & 0.06 & 4.17 \\\\\ncardiovascular_disease & 1.39 & 4.00 & 0.26 & 0.89 & 1.89 & 2.43 & 6.60 & 0.00 & 5.44 & 0.00 & 24.13 \\\\\n\\end{tabular}\n"
          },
          "metadata": {}
        }
      ],
      "source": [
        "# print the summary of the model\n",
        "# Print the summary of the model\n",
        "cph.print_summary()"
      ]
    },
    {
      "cell_type": "code",
      "execution_count": 10,
      "metadata": {
        "id": "3dAhEXGjRyc1",
        "colab": {
          "base_uri": "https://localhost:8080/",
          "height": 493
        },
        "outputId": "775ba6bc-92cd-46d2-e523-d0ab70865961"
      },
      "outputs": [
        {
          "output_type": "display_data",
          "data": {
            "text/plain": [
              "<Figure size 640x480 with 1 Axes>"
            ],
            "image/png": "[encoded data removed]"
          },
          "metadata": {}
        }
      ],
      "source": [
        "# Plot the results of the cph model with hazards ratios\n",
        "cph.plot(hazard_ratios=True)\n",
        "plt.title(\"Relative Impact of Risk Factors on Outcomes: \\n A Hazard Ratio Analysis\")\n",
        "plt.ylabel(\"Comorbidity\")\n",
        "plt.show()"
      ]
    },
    {
      "cell_type": "markdown",
      "source": [
        "### Kaplan-Meier Estimates"
      ],
      "metadata": {
        "id": "5yFV7NGHTDNr"
      }
    },
    {
      "cell_type": "code",
      "execution_count": 11,
      "metadata": {
        "id": "MSpB8vuRR7QV",
        "colab": {
          "base_uri": "https://localhost:8080/",
          "height": 564
        },
        "outputId": "30a8b233-4046-45b8-8e7c-4ecb15748e5b"
      },
      "outputs": [
        {
          "output_type": "display_data",
          "data": {
            "text/plain": [
              "<Figure size 800x600 with 1 Axes>"
            ],
            "image/png": "[encoded data removed]"
          },
          "metadata": {}
        }
      ],
      "source": [
        "# Instantiate the Kaplan-Meier fitter\n",
        "kmf = KaplanMeierFitter()\n",
        "\n",
        "# Fit the data\n",
        "kmf.fit(durations=cph_train[\"time_years\"], event_observed=cph_train[\"outcome\"])\n",
        "\n",
        "# Plot the Kaplan-Meier estimate of the survival function\n",
        "kmf.plot_survival_function(figsize=(8,6))\n",
        "\n",
        "plt.title(\"Kaplan-Meier Survival Function\")\n",
        "plt.xlabel(\"Time (in Years)\")\n",
        "plt.ylabel(\"Survival Rate\")\n",
        "plt.show()  # Show the plot"
      ]
    },
    {
      "cell_type": "markdown",
      "source": [
        "### Partial Effects on Outcome"
      ],
      "metadata": {
        "id": "IBYpma9LTLOP"
      }
    },
    {
      "cell_type": "code",
      "execution_count": 12,
      "metadata": {
        "id": "0qS6KJMKUjFQ",
        "colab": {
          "base_uri": "https://localhost:8080/",
          "height": 564
        },
        "outputId": "4cd8db11-609f-4095-ab0d-f0efb99cb86d"
      },
      "outputs": [
        {
          "output_type": "display_data",
          "data": {
            "text/plain": [
              "<Figure size 800x600 with 1 Axes>"
            ],
            "image/png": "[encoded data removed]"
          },
          "metadata": {}
        }
      ],
      "source": [
        "covariate = \"sex\"\n",
        "# Then you define the values of the covariate you're interested in examining.\n",
        "# For instance, if 'age' ranges from 20 to 70, you might choose a few key values within this range\n",
        "values_of_interest = [0, 1]\n",
        "labels = [\"Female\", \"Male\"]\n",
        "\n",
        "# Generate the plot\n",
        "ax = cph.plot_partial_effects_on_outcome(\n",
        "    covariates=covariate, values=values_of_interest, cmap=\"coolwarm\"\n",
        ")\n",
        "\n",
        "# Change the figure size here by accessing the figure object that 'ax' belongs to\n",
        "ax.figure.set_size_inches(8, 6)\n",
        "\n",
        "# Plot the baseline survival\n",
        "cph.baseline_survival_.plot(\n",
        "    ax=ax, color=\"black\", linestyle=\"--\", label=\"Baseline Survival\"\n",
        ")\n",
        "\n",
        "# Manually construct the labels list including the baseline survival\n",
        "labels_with_baseline = labels + [\"Baseline Survival\"]\n",
        "\n",
        "# Retrieve the lines that have been plotted (which correspond to 'values_of_interest')\n",
        "lines = ax.get_lines()\n",
        "\n",
        "ax.set_title(\"Survival by Sex\")\n",
        "ax.set_xlabel(\"Time (in Years)\")\n",
        "ax.set_ylabel(\"Survival Rate\")\n",
        "ax.legend(lines, labels_with_baseline)  # Update the legend to include all lines\n",
        "plt.show()  # Show the plot"
      ]
    },
    {
      "cell_type": "markdown",
      "metadata": {
        "id": "3J_2x0HsYAqQ"
      },
      "source": [
        "## Customized Machine Learning Algorithms"
      ]
    },
    {
      "cell_type": "code",
      "execution_count": 13,
      "metadata": {
        "id": "Bg3UyclvA4uo"
      },
      "outputs": [],
      "source": [
        "rstate = 222  # random state for reproducibility"
      ]
    },
    {
      "cell_type": "code",
      "execution_count": 14,
      "metadata": {
        "id": "kLEbISiOAlt5"
      },
      "outputs": [],
      "source": [
        "# untuned models\n",
        "# lr = LogisticRegression(class_weight=\"balanced\", random_state=rstate)\n",
        "# svm = SVC(class_weight=\"balanced\", probability=True, random_state=rstate)\n",
        "# rf = RandomForestClassifier(class_weight=\"balanced\", random_state=rstate)\n",
        "# et = ExtraTreesClassifier(class_weight=\"balanced\", random_state=rstate)"
      ]
    },
    {
      "cell_type": "code",
      "execution_count": 15,
      "metadata": {
        "id": "DPpaefOSIGrq",
        "colab": {
          "base_uri": "https://localhost:8080/"
        },
        "outputId": "e054c0c7-2471-4d1c-f313-4b0ddfa8a1f5"
      },
      "outputs": [
        {
          "output_type": "stream",
          "name": "stdout",
          "text": [
            "GridSearchCV(cv=5,\n",
            "             estimator=Pipeline(steps=[('scaler', StandardScaler()),\n",
            "                                       ('lr',\n",
            "                                        LogisticRegression(class_weight='balanced',\n",
            "                                                           random_state=222))]),\n",
            "             param_grid={'lr__C': [0.001, 0.01, 0.1, 1, 10], 'lr__n_jobs': [-1],\n",
            "                         'lr__solver': ['liblinear', 'saga']},\n",
            "             scoring='accuracy', verbose=1)\n",
            "GridSearchCV(cv=5,\n",
            "             estimator=Pipeline(steps=[('scaler', StandardScaler()),\n",
            "                                       ('svm',\n",
            "                                        SVC(class_weight='balanced',\n",
            "                                            probability=True,\n",
            "                                            random_state=222))]),\n",
            "             param_grid={'svm__C': [0.1, 1, 10],\n",
            "                         'svm__kernel': ['linear', 'poly', 'rbf', 'sigmoid']},\n",
            "             scoring='accuracy', verbose=1)\n",
            "GridSearchCV(cv=5,\n",
            "             estimator=Pipeline(steps=[('scaler', StandardScaler()),\n",
            "                                       ('rf',\n",
            "                                        RandomForestClassifier(class_weight='balanced',\n",
            "                                                               random_state=222))]),\n",
            "             param_grid={'rf__max_depth': [None, 10, 20, 30],\n",
            "                         'rf__min_samples_split': [2, 5, 10],\n",
            "                         'rf__n_estimators': [50, 100, 200, 500],\n",
            "                         'rf__n_jobs': [-1]},\n",
            "             scoring='accuracy', verbose=1)\n",
            "GridSearchCV(cv=5,\n",
            "             estimator=Pipeline(steps=[('scaler', StandardScaler()),\n",
            "                                       ('et',\n",
            "                                        ExtraTreesClassifier(class_weight='balanced',\n",
            "                                                             random_state=222))]),\n",
            "             param_grid={'et__max_depth': [None, 10, 20, 30],\n",
            "                         'et__min_samples_split': [2, 5, 10],\n",
            "                         'et__n_estimators': [200, 500, 1000],\n",
            "                         'et__n_jobs': [-1]},\n",
            "             scoring='accuracy', verbose=1)\n"
          ]
        }
      ],
      "source": [
        "# Define pipelines and parameter grids for each model\n",
        "# Pipelines define a sequence of data processing steps followed by a model\n",
        "# Each pipeline begins with feature scaling using StandardScaler to standardize\n",
        "# the data\n",
        "\n",
        "# Logistic regression with balanced class weight\n",
        "# Standardize features by removing the mean and scaling to unit variance\n",
        "pipeline_lr = Pipeline([\n",
        "    (\"scaler\", StandardScaler()),  # Standardize features\n",
        "    (\"lr\", LogisticRegression(class_weight=\"balanced\", random_state=rstate)),\n",
        "])\n",
        "\n",
        "# SVM with balanced class weight\n",
        "pipeline_svm = Pipeline([\n",
        "    (\"scaler\", StandardScaler()),  # Standardize features\n",
        "    (\"svm\", SVC(class_weight=\"balanced\", probability=True, random_state=rstate)),\n",
        "])\n",
        "\n",
        "# Random forest with balanced class weight\n",
        "pipeline_rf = Pipeline([\n",
        "    (\"scaler\", StandardScaler()),  # Standardize features\n",
        "    (\"rf\", RandomForestClassifier(class_weight=\"balanced\", random_state=rstate)),\n",
        "])\n",
        "\n",
        "# Define the Extra Trees pipeline; Extra Trees with balanced class weight\n",
        "pipeline_et = Pipeline([\n",
        "    (\"scaler\", StandardScaler()),  # Standardize features\n",
        "    (\"et\", ExtraTreesClassifier(class_weight=\"balanced\", random_state=rstate)),\n",
        "])\n",
        "\n",
        "# Define the parameter grids for each model. The keys are prefixed with the\n",
        "# model's name from the pipeline followed by a double underscore to specify\n",
        "# parameter names for hyperparameter tuning.\n",
        "\n",
        "# Parameter grid for the Logistic Regression model\n",
        "param_grid_lr = {\n",
        "    \"lr__C\": [0.001, 0.01, 0.1, 1, 10],  # Inverse of regularization strength\n",
        "    \"lr__solver\": [\"liblinear\", \"saga\"],  # Algorithm in the optimization problem\n",
        "    \"lr__n_jobs\": [-1],  # Number of CPU cores used when parallelizing over classes\n",
        "}\n",
        "\n",
        "# Parameter grid for the SVM model\n",
        "param_grid_svm = {\n",
        "    \"svm__C\": [0.1, 1, 10],  # Penalty parameter C of the error term\n",
        "    \"svm__kernel\": [\"linear\", \"poly\", \"rbf\", \"sigmoid\"],  # kernel type\n",
        "}\n",
        "\n",
        "# Parameter grid for the Random Forest model\n",
        "param_grid_rf = {\n",
        "    \"rf__n_estimators\": [50, 100, 200, 500],  # The number of trees in the forest\n",
        "    \"rf__max_depth\": [None, 10, 20, 30],  # The maximum depth of the tree\n",
        "    \"rf__min_samples_split\": [2, 5, 10],  # min no. of samp. to split internal node\n",
        "    \"rf__n_jobs\": [-1],  # The number of jobs to run in parallel\n",
        "}\n",
        "\n",
        "# Parameter grid for the Extra Trees model\n",
        "param_grid_et = {\n",
        "    \"et__n_estimators\": [200, 500, 1000],  # The number of trees in the forest\n",
        "    \"et__max_depth\": [None, 10, 20, 30],  # The maximum depth of the tree\n",
        "    \"et__min_samples_split\": [2, 5, 10],  # min no. of samp. to split internal node\n",
        "    \"et__n_jobs\": [-1],  # The number of jobs to run in parallel\n",
        "}\n",
        "\n",
        "# GridSearchCV is set up for each model, defining cross-validation (cv) strategy,\n",
        "# scoring metric, and verbosity\n",
        "grid_search_lr = GridSearchCV(\n",
        "    pipeline_lr,\n",
        "    param_grid_lr,\n",
        "    cv=5,\n",
        "    scoring=\"accuracy\",\n",
        "    verbose=1,\n",
        ")\n",
        "grid_search_svm = GridSearchCV(\n",
        "    pipeline_svm,\n",
        "    param_grid_svm,\n",
        "    cv=5,\n",
        "    scoring=\"accuracy\",\n",
        "    verbose=1,\n",
        ")\n",
        "grid_search_rf = GridSearchCV(\n",
        "    pipeline_rf,\n",
        "    param_grid_rf,\n",
        "    cv=5,\n",
        "    scoring=\"accuracy\",\n",
        "    verbose=1,\n",
        ")\n",
        "grid_search_et = GridSearchCV(\n",
        "    pipeline_et,\n",
        "    param_grid_et,\n",
        "    cv=5,\n",
        "    scoring=\"accuracy\",\n",
        "    verbose=1,\n",
        ")\n",
        "\n",
        "# Compile all the GridSearchCV objects into a list for easy iteration\n",
        "grid_list = [grid_search_lr, grid_search_svm, grid_search_rf, grid_search_et]\n",
        "\n",
        "print(\"\\n\".join([str(item) for item in grid_list]))"
      ]
    },
    {
      "cell_type": "markdown",
      "source": [
        "### Fitting Models Without Calibration"
      ],
      "metadata": {
        "id": "A8KehR87T-cc"
      }
    },
    {
      "cell_type": "code",
      "source": [
        "model_list = [\n",
        "    (\"grid_search_lr\", grid_search_lr),\n",
        "    (\"grid_search_svm\", grid_search_svm),\n",
        "    (\"grid_search_rf\", grid_search_rf),\n",
        "    (\"grid_search_et\", grid_search_et),\n",
        "]\n",
        "\n",
        "non_calibrated_probas_dict = {}\n",
        "\n",
        "for name, model in tqdm(model_list, desc=\"Fitting models\"):\n",
        "    print(f\"\\nFitting {name}...\")\n",
        "    model.fit(\n",
        "        X_train, y_train\n",
        "    )  # This fits GridSearchCV which in turn finds the best estimator\n",
        "    print(f\"\\nBest parameters for {name}: \\n{model.best_params_}\")\n",
        "\n",
        "    # Predictions and probabilities from the calibrated model\n",
        "    model_scores = model.predict(X_test)\n",
        "    model_probas = model.predict_proba(X_test)[:, 1]\n",
        "\n",
        "    # Storing scores and probabilities in probas_dict\n",
        "    non_calibrated_probas_dict[name + \"_score\"] = model_scores\n",
        "    non_calibrated_probas_dict[name + \"_proba\"] = model_probas"
      ],
      "metadata": {
        "id": "TnnCiEAqVof_",
        "colab": {
          "base_uri": "https://localhost:8080/",
          "height": 634
        },
        "outputId": "2af5a828-a51a-4477-e2fc-1451de87978c"
      },
      "execution_count": 16,
      "outputs": [
        {
          "output_type": "stream",
          "name": "stderr",
          "text": [
            "\rFitting models:   0%|          | 0/4 [00:00<?, ?it/s]"
          ]
        },
        {
          "output_type": "stream",
          "name": "stdout",
          "text": [
            "\n",
            "Fitting grid_search_lr...\n",
            "Fitting 5 folds for each of 10 candidates, totalling 50 fits\n"
          ]
        },
        {
          "output_type": "stream",
          "name": "stderr",
          "text": [
            "\rFitting models:  25%|██▌       | 1/4 [00:02<00:06,  2.32s/it]"
          ]
        },
        {
          "output_type": "stream",
          "name": "stdout",
          "text": [
            "\n",
            "Best parameters for grid_search_lr: \n",
            "{'lr__C': 0.1, 'lr__n_jobs': -1, 'lr__solver': 'saga'}\n",
            "\n",
            "Fitting grid_search_svm...\n",
            "Fitting 5 folds for each of 12 candidates, totalling 60 fits\n"
          ]
        },
        {
          "output_type": "stream",
          "name": "stderr",
          "text": [
            "\rFitting models:  50%|█████     | 2/4 [00:19<00:22, 11.34s/it]"
          ]
        },
        {
          "output_type": "stream",
          "name": "stdout",
          "text": [
            "\n",
            "Best parameters for grid_search_svm: \n",
            "{'svm__C': 0.1, 'svm__kernel': 'poly'}\n",
            "\n",
            "Fitting grid_search_rf...\n",
            "Fitting 5 folds for each of 48 candidates, totalling 240 fits\n"
          ]
        },
        {
          "output_type": "stream",
          "name": "stderr",
          "text": [
            "\rFitting models:  50%|█████     | 2/4 [00:36<00:36, 18.00s/it]\n"
          ]
        },
        {
          "output_type": "error",
          "ename": "KeyboardInterrupt",
          "evalue": "",
          "traceback": [
            "\u001b[0;31m---------------------------------------------------------------------------\u001b[0m",
            "\u001b[0;31mKeyboardInterrupt\u001b[0m                         Traceback (most recent call last)",
            "\u001b[0;32m<ipython-input-16-1a4f29a961f2>\u001b[0m in \u001b[0;36m<cell line: 10>\u001b[0;34m()\u001b[0m\n\u001b[1;32m     10\u001b[0m \u001b[0;32mfor\u001b[0m \u001b[0mname\u001b[0m\u001b[0;34m,\u001b[0m \u001b[0mmodel\u001b[0m \u001b[0;32min\u001b[0m \u001b[0mtqdm\u001b[0m\u001b[0;34m(\u001b[0m\u001b[0mmodel_list\u001b[0m\u001b[0;34m,\u001b[0m \u001b[0mdesc\u001b[0m\u001b[0;34m=\u001b[0m\u001b[0;34m\"Fitting models\"\u001b[0m\u001b[0;34m)\u001b[0m\u001b[0;34m:\u001b[0m\u001b[0;34m\u001b[0m\u001b[0;34m\u001b[0m\u001b[0m\n\u001b[1;32m     11\u001b[0m     \u001b[0mprint\u001b[0m\u001b[0;34m(\u001b[0m\u001b[0;34mf\"\\nFitting {name}...\"\u001b[0m\u001b[0;34m)\u001b[0m\u001b[0;34m\u001b[0m\u001b[0;34m\u001b[0m\u001b[0m\n\u001b[0;32m---> 12\u001b[0;31m     model.fit(\n\u001b[0m\u001b[1;32m     13\u001b[0m         \u001b[0mX_train\u001b[0m\u001b[0;34m,\u001b[0m \u001b[0my_train\u001b[0m\u001b[0;34m\u001b[0m\u001b[0;34m\u001b[0m\u001b[0m\n\u001b[1;32m     14\u001b[0m     )  # This fits GridSearchCV which in turn finds the best estimator\n",
            "\u001b[0;32m/usr/local/lib/python3.10/dist-packages/sklearn/model_selection/_search.py\u001b[0m in \u001b[0;36mfit\u001b[0;34m(self, X, y, groups, **fit_params)\u001b[0m\n\u001b[1;32m    872\u001b[0m                 \u001b[0;32mreturn\u001b[0m \u001b[0mresults\u001b[0m\u001b[0;34m\u001b[0m\u001b[0;34m\u001b[0m\u001b[0m\n\u001b[1;32m    873\u001b[0m \u001b[0;34m\u001b[0m\u001b[0m\n\u001b[0;32m--> 874\u001b[0;31m             \u001b[0mself\u001b[0m\u001b[0;34m.\u001b[0m\u001b[0m_run_search\u001b[0m\u001b[0;34m(\u001b[0m\u001b[0mevaluate_candidates\u001b[0m\u001b[0;34m)\u001b[0m\u001b[0;34m\u001b[0m\u001b[0;34m\u001b[0m\u001b[0m\n\u001b[0m\u001b[1;32m    875\u001b[0m \u001b[0;34m\u001b[0m\u001b[0m\n\u001b[1;32m    876\u001b[0m             \u001b[0;31m# multimetric is determined here because in the case of a callable\u001b[0m\u001b[0;34m\u001b[0m\u001b[0;34m\u001b[0m\u001b[0m\n",
            "\u001b[0;32m/usr/local/lib/python3.10/dist-packages/sklearn/model_selection/_search.py\u001b[0m in \u001b[0;36m_run_search\u001b[0;34m(self, evaluate_candidates)\u001b[0m\n\u001b[1;32m   1386\u001b[0m     \u001b[0;32mdef\u001b[0m \u001b[0m_run_search\u001b[0m\u001b[0;34m(\u001b[0m\u001b[0mself\u001b[0m\u001b[0;34m,\u001b[0m \u001b[0mevaluate_candidates\u001b[0m\u001b[0;34m)\u001b[0m\u001b[0;34m:\u001b[0m\u001b[0;34m\u001b[0m\u001b[0;34m\u001b[0m\u001b[0m\n\u001b[1;32m   1387\u001b[0m         \u001b[0;34m\"\"\"Search all candidates in param_grid\"\"\"\u001b[0m\u001b[0;34m\u001b[0m\u001b[0;34m\u001b[0m\u001b[0m\n\u001b[0;32m-> 1388\u001b[0;31m         \u001b[0mevaluate_candidates\u001b[0m\u001b[0;34m(\u001b[0m\u001b[0mParameterGrid\u001b[0m\u001b[0;34m(\u001b[0m\u001b[0mself\u001b[0m\u001b[0;34m.\u001b[0m\u001b[0mparam_grid\u001b[0m\u001b[0;34m)\u001b[0m\u001b[0;34m)\u001b[0m\u001b[0;34m\u001b[0m\u001b[0;34m\u001b[0m\u001b[0m\n\u001b[0m\u001b[1;32m   1389\u001b[0m \u001b[0;34m\u001b[0m\u001b[0m\n\u001b[1;32m   1390\u001b[0m \u001b[0;34m\u001b[0m\u001b[0m\n",
            "\u001b[0;32m/usr/local/lib/python3.10/dist-packages/sklearn/model_selection/_search.py\u001b[0m in \u001b[0;36mevaluate_candidates\u001b[0;34m(candidate_params, cv, more_results)\u001b[0m\n\u001b[1;32m    819\u001b[0m                     )\n\u001b[1;32m    820\u001b[0m \u001b[0;34m\u001b[0m\u001b[0m\n\u001b[0;32m--> 821\u001b[0;31m                 out = parallel(\n\u001b[0m\u001b[1;32m    822\u001b[0m                     delayed(_fit_and_score)(\n\u001b[1;32m    823\u001b[0m                         \u001b[0mclone\u001b[0m\u001b[0;34m(\u001b[0m\u001b[0mbase_estimator\u001b[0m\u001b[0;34m)\u001b[0m\u001b[0;34m,\u001b[0m\u001b[0;34m\u001b[0m\u001b[0;34m\u001b[0m\u001b[0m\n",
            "\u001b[0;32m/usr/local/lib/python3.10/dist-packages/sklearn/utils/parallel.py\u001b[0m in \u001b[0;36m__call__\u001b[0;34m(self, iterable)\u001b[0m\n\u001b[1;32m     61\u001b[0m             \u001b[0;32mfor\u001b[0m \u001b[0mdelayed_func\u001b[0m\u001b[0;34m,\u001b[0m \u001b[0margs\u001b[0m\u001b[0;34m,\u001b[0m \u001b[0mkwargs\u001b[0m \u001b[0;32min\u001b[0m \u001b[0miterable\u001b[0m\u001b[0;34m\u001b[0m\u001b[0;34m\u001b[0m\u001b[0m\n\u001b[1;32m     62\u001b[0m         )\n\u001b[0;32m---> 63\u001b[0;31m         \u001b[0;32mreturn\u001b[0m \u001b[0msuper\u001b[0m\u001b[0;34m(\u001b[0m\u001b[0;34m)\u001b[0m\u001b[0;34m.\u001b[0m\u001b[0m__call__\u001b[0m\u001b[0;34m(\u001b[0m\u001b[0miterable_with_config\u001b[0m\u001b[0;34m)\u001b[0m\u001b[0;34m\u001b[0m\u001b[0;34m\u001b[0m\u001b[0m\n\u001b[0m\u001b[1;32m     64\u001b[0m \u001b[0;34m\u001b[0m\u001b[0m\n\u001b[1;32m     65\u001b[0m \u001b[0;34m\u001b[0m\u001b[0m\n",
            "\u001b[0;32m/usr/local/lib/python3.10/dist-packages/joblib/parallel.py\u001b[0m in \u001b[0;36m__call__\u001b[0;34m(self, iterable)\u001b[0m\n\u001b[1;32m   1861\u001b[0m             \u001b[0moutput\u001b[0m \u001b[0;34m=\u001b[0m \u001b[0mself\u001b[0m\u001b[0;34m.\u001b[0m\u001b[0m_get_sequential_output\u001b[0m\u001b[0;34m(\u001b[0m\u001b[0miterable\u001b[0m\u001b[0;34m)\u001b[0m\u001b[0;34m\u001b[0m\u001b[0;34m\u001b[0m\u001b[0m\n\u001b[1;32m   1862\u001b[0m             \u001b[0mnext\u001b[0m\u001b[0;34m(\u001b[0m\u001b[0moutput\u001b[0m\u001b[0;34m)\u001b[0m\u001b[0;34m\u001b[0m\u001b[0;34m\u001b[0m\u001b[0m\n\u001b[0;32m-> 1863\u001b[0;31m             \u001b[0;32mreturn\u001b[0m \u001b[0moutput\u001b[0m \u001b[0;32mif\u001b[0m \u001b[0mself\u001b[0m\u001b[0;34m.\u001b[0m\u001b[0mreturn_generator\u001b[0m \u001b[0;32melse\u001b[0m \u001b[0mlist\u001b[0m\u001b[0;34m(\u001b[0m\u001b[0moutput\u001b[0m\u001b[0;34m)\u001b[0m\u001b[0;34m\u001b[0m\u001b[0;34m\u001b[0m\u001b[0m\n\u001b[0m\u001b[1;32m   1864\u001b[0m \u001b[0;34m\u001b[0m\u001b[0m\n\u001b[1;32m   1865\u001b[0m         \u001b[0;31m# Let's create an ID that uniquely identifies the current call. If the\u001b[0m\u001b[0;34m\u001b[0m\u001b[0;34m\u001b[0m\u001b[0m\n",
            "\u001b[0;32m/usr/local/lib/python3.10/dist-packages/joblib/parallel.py\u001b[0m in \u001b[0;36m_get_sequential_output\u001b[0;34m(self, iterable)\u001b[0m\n\u001b[1;32m   1790\u001b[0m                 \u001b[0mself\u001b[0m\u001b[0;34m.\u001b[0m\u001b[0mn_dispatched_batches\u001b[0m \u001b[0;34m+=\u001b[0m \u001b[0;36m1\u001b[0m\u001b[0;34m\u001b[0m\u001b[0;34m\u001b[0m\u001b[0m\n\u001b[1;32m   1791\u001b[0m                 \u001b[0mself\u001b[0m\u001b[0;34m.\u001b[0m\u001b[0mn_dispatched_tasks\u001b[0m \u001b[0;34m+=\u001b[0m \u001b[0;36m1\u001b[0m\u001b[0;34m\u001b[0m\u001b[0;34m\u001b[0m\u001b[0m\n\u001b[0;32m-> 1792\u001b[0;31m                 \u001b[0mres\u001b[0m \u001b[0;34m=\u001b[0m \u001b[0mfunc\u001b[0m\u001b[0;34m(\u001b[0m\u001b[0;34m*\u001b[0m\u001b[0margs\u001b[0m\u001b[0;34m,\u001b[0m \u001b[0;34m**\u001b[0m\u001b[0mkwargs\u001b[0m\u001b[0;34m)\u001b[0m\u001b[0;34m\u001b[0m\u001b[0;34m\u001b[0m\u001b[0m\n\u001b[0m\u001b[1;32m   1793\u001b[0m                 \u001b[0mself\u001b[0m\u001b[0;34m.\u001b[0m\u001b[0mn_completed_tasks\u001b[0m \u001b[0;34m+=\u001b[0m \u001b[0;36m1\u001b[0m\u001b[0;34m\u001b[0m\u001b[0;34m\u001b[0m\u001b[0m\n\u001b[1;32m   1794\u001b[0m                 \u001b[0mself\u001b[0m\u001b[0;34m.\u001b[0m\u001b[0mprint_progress\u001b[0m\u001b[0;34m(\u001b[0m\u001b[0;34m)\u001b[0m\u001b[0;34m\u001b[0m\u001b[0;34m\u001b[0m\u001b[0m\n",
            "\u001b[0;32m/usr/local/lib/python3.10/dist-packages/sklearn/utils/parallel.py\u001b[0m in \u001b[0;36m__call__\u001b[0;34m(self, *args, **kwargs)\u001b[0m\n\u001b[1;32m    121\u001b[0m             \u001b[0mconfig\u001b[0m \u001b[0;34m=\u001b[0m \u001b[0;34m{\u001b[0m\u001b[0;34m}\u001b[0m\u001b[0;34m\u001b[0m\u001b[0;34m\u001b[0m\u001b[0m\n\u001b[1;32m    122\u001b[0m         \u001b[0;32mwith\u001b[0m \u001b[0mconfig_context\u001b[0m\u001b[0;34m(\u001b[0m\u001b[0;34m**\u001b[0m\u001b[0mconfig\u001b[0m\u001b[0;34m)\u001b[0m\u001b[0;34m:\u001b[0m\u001b[0;34m\u001b[0m\u001b[0;34m\u001b[0m\u001b[0m\n\u001b[0;32m--> 123\u001b[0;31m             \u001b[0;32mreturn\u001b[0m \u001b[0mself\u001b[0m\u001b[0;34m.\u001b[0m\u001b[0mfunction\u001b[0m\u001b[0;34m(\u001b[0m\u001b[0;34m*\u001b[0m\u001b[0margs\u001b[0m\u001b[0;34m,\u001b[0m \u001b[0;34m**\u001b[0m\u001b[0mkwargs\u001b[0m\u001b[0;34m)\u001b[0m\u001b[0;34m\u001b[0m\u001b[0;34m\u001b[0m\u001b[0m\n\u001b[0m",
            "\u001b[0;32m/usr/local/lib/python3.10/dist-packages/sklearn/model_selection/_validation.py\u001b[0m in \u001b[0;36m_fit_and_score\u001b[0;34m(estimator, X, y, scorer, train, test, verbose, parameters, fit_params, return_train_score, return_parameters, return_n_test_samples, return_times, return_estimator, split_progress, candidate_progress, error_score)\u001b[0m\n\u001b[1;32m    684\u001b[0m             \u001b[0mestimator\u001b[0m\u001b[0;34m.\u001b[0m\u001b[0mfit\u001b[0m\u001b[0;34m(\u001b[0m\u001b[0mX_train\u001b[0m\u001b[0;34m,\u001b[0m \u001b[0;34m**\u001b[0m\u001b[0mfit_params\u001b[0m\u001b[0;34m)\u001b[0m\u001b[0;34m\u001b[0m\u001b[0;34m\u001b[0m\u001b[0m\n\u001b[1;32m    685\u001b[0m         \u001b[0;32melse\u001b[0m\u001b[0;34m:\u001b[0m\u001b[0;34m\u001b[0m\u001b[0;34m\u001b[0m\u001b[0m\n\u001b[0;32m--> 686\u001b[0;31m             \u001b[0mestimator\u001b[0m\u001b[0;34m.\u001b[0m\u001b[0mfit\u001b[0m\u001b[0;34m(\u001b[0m\u001b[0mX_train\u001b[0m\u001b[0;34m,\u001b[0m \u001b[0my_train\u001b[0m\u001b[0;34m,\u001b[0m \u001b[0;34m**\u001b[0m\u001b[0mfit_params\u001b[0m\u001b[0;34m)\u001b[0m\u001b[0;34m\u001b[0m\u001b[0;34m\u001b[0m\u001b[0m\n\u001b[0m\u001b[1;32m    687\u001b[0m \u001b[0;34m\u001b[0m\u001b[0m\n\u001b[1;32m    688\u001b[0m     \u001b[0;32mexcept\u001b[0m \u001b[0mException\u001b[0m\u001b[0;34m:\u001b[0m\u001b[0;34m\u001b[0m\u001b[0;34m\u001b[0m\u001b[0m\n",
            "\u001b[0;32m/usr/local/lib/python3.10/dist-packages/sklearn/pipeline.py\u001b[0m in \u001b[0;36mfit\u001b[0;34m(self, X, y, **fit_params)\u001b[0m\n\u001b[1;32m    403\u001b[0m             \u001b[0;32mif\u001b[0m \u001b[0mself\u001b[0m\u001b[0;34m.\u001b[0m\u001b[0m_final_estimator\u001b[0m \u001b[0;34m!=\u001b[0m \u001b[0;34m\"passthrough\"\u001b[0m\u001b[0;34m:\u001b[0m\u001b[0;34m\u001b[0m\u001b[0;34m\u001b[0m\u001b[0m\n\u001b[1;32m    404\u001b[0m                 \u001b[0mfit_params_last_step\u001b[0m \u001b[0;34m=\u001b[0m \u001b[0mfit_params_steps\u001b[0m\u001b[0;34m[\u001b[0m\u001b[0mself\u001b[0m\u001b[0;34m.\u001b[0m\u001b[0msteps\u001b[0m\u001b[0;34m[\u001b[0m\u001b[0;34m-\u001b[0m\u001b[0;36m1\u001b[0m\u001b[0;34m]\u001b[0m\u001b[0;34m[\u001b[0m\u001b[0;36m0\u001b[0m\u001b[0;34m]\u001b[0m\u001b[0;34m]\u001b[0m\u001b[0;34m\u001b[0m\u001b[0;34m\u001b[0m\u001b[0m\n\u001b[0;32m--> 405\u001b[0;31m                 \u001b[0mself\u001b[0m\u001b[0;34m.\u001b[0m\u001b[0m_final_estimator\u001b[0m\u001b[0;34m.\u001b[0m\u001b[0mfit\u001b[0m\u001b[0;34m(\u001b[0m\u001b[0mXt\u001b[0m\u001b[0;34m,\u001b[0m \u001b[0my\u001b[0m\u001b[0;34m,\u001b[0m \u001b[0;34m**\u001b[0m\u001b[0mfit_params_last_step\u001b[0m\u001b[0;34m)\u001b[0m\u001b[0;34m\u001b[0m\u001b[0;34m\u001b[0m\u001b[0m\n\u001b[0m\u001b[1;32m    406\u001b[0m \u001b[0;34m\u001b[0m\u001b[0m\n\u001b[1;32m    407\u001b[0m         \u001b[0;32mreturn\u001b[0m \u001b[0mself\u001b[0m\u001b[0;34m\u001b[0m\u001b[0;34m\u001b[0m\u001b[0m\n",
            "\u001b[0;32m/usr/local/lib/python3.10/dist-packages/sklearn/ensemble/_forest.py\u001b[0m in \u001b[0;36mfit\u001b[0;34m(self, X, y, sample_weight)\u001b[0m\n\u001b[1;32m    460\u001b[0m                 \u001b[0mrandom_state\u001b[0m\u001b[0;34m.\u001b[0m\u001b[0mrandint\u001b[0m\u001b[0;34m(\u001b[0m\u001b[0mMAX_INT\u001b[0m\u001b[0;34m,\u001b[0m \u001b[0msize\u001b[0m\u001b[0;34m=\u001b[0m\u001b[0mlen\u001b[0m\u001b[0;34m(\u001b[0m\u001b[0mself\u001b[0m\u001b[0;34m.\u001b[0m\u001b[0mestimators_\u001b[0m\u001b[0;34m)\u001b[0m\u001b[0;34m)\u001b[0m\u001b[0;34m\u001b[0m\u001b[0;34m\u001b[0m\u001b[0m\n\u001b[1;32m    461\u001b[0m \u001b[0;34m\u001b[0m\u001b[0m\n\u001b[0;32m--> 462\u001b[0;31m             trees = [\n\u001b[0m\u001b[1;32m    463\u001b[0m                 \u001b[0mself\u001b[0m\u001b[0;34m.\u001b[0m\u001b[0m_make_estimator\u001b[0m\u001b[0;34m(\u001b[0m\u001b[0mappend\u001b[0m\u001b[0;34m=\u001b[0m\u001b[0;32mFalse\u001b[0m\u001b[0;34m,\u001b[0m \u001b[0mrandom_state\u001b[0m\u001b[0;34m=\u001b[0m\u001b[0mrandom_state\u001b[0m\u001b[0;34m)\u001b[0m\u001b[0;34m\u001b[0m\u001b[0;34m\u001b[0m\u001b[0m\n\u001b[1;32m    464\u001b[0m                 \u001b[0;32mfor\u001b[0m \u001b[0mi\u001b[0m \u001b[0;32min\u001b[0m \u001b[0mrange\u001b[0m\u001b[0;34m(\u001b[0m\u001b[0mn_more_estimators\u001b[0m\u001b[0;34m)\u001b[0m\u001b[0;34m\u001b[0m\u001b[0;34m\u001b[0m\u001b[0m\n",
            "\u001b[0;32m/usr/local/lib/python3.10/dist-packages/sklearn/ensemble/_forest.py\u001b[0m in \u001b[0;36m<listcomp>\u001b[0;34m(.0)\u001b[0m\n\u001b[1;32m    461\u001b[0m \u001b[0;34m\u001b[0m\u001b[0m\n\u001b[1;32m    462\u001b[0m             trees = [\n\u001b[0;32m--> 463\u001b[0;31m                 \u001b[0mself\u001b[0m\u001b[0;34m.\u001b[0m\u001b[0m_make_estimator\u001b[0m\u001b[0;34m(\u001b[0m\u001b[0mappend\u001b[0m\u001b[0;34m=\u001b[0m\u001b[0;32mFalse\u001b[0m\u001b[0;34m,\u001b[0m \u001b[0mrandom_state\u001b[0m\u001b[0;34m=\u001b[0m\u001b[0mrandom_state\u001b[0m\u001b[0;34m)\u001b[0m\u001b[0;34m\u001b[0m\u001b[0;34m\u001b[0m\u001b[0m\n\u001b[0m\u001b[1;32m    464\u001b[0m                 \u001b[0;32mfor\u001b[0m \u001b[0mi\u001b[0m \u001b[0;32min\u001b[0m \u001b[0mrange\u001b[0m\u001b[0;34m(\u001b[0m\u001b[0mn_more_estimators\u001b[0m\u001b[0;34m)\u001b[0m\u001b[0;34m\u001b[0m\u001b[0;34m\u001b[0m\u001b[0m\n\u001b[1;32m    465\u001b[0m             ]\n",
            "\u001b[0;32m/usr/local/lib/python3.10/dist-packages/sklearn/ensemble/_base.py\u001b[0m in \u001b[0;36m_make_estimator\u001b[0;34m(self, append, random_state)\u001b[0m\n\u001b[1;32m    190\u001b[0m         \u001b[0msub\u001b[0m\u001b[0;34m-\u001b[0m\u001b[0mestimators\u001b[0m\u001b[0;34m.\u001b[0m\u001b[0;34m\u001b[0m\u001b[0;34m\u001b[0m\u001b[0m\n\u001b[1;32m    191\u001b[0m         \"\"\"\n\u001b[0;32m--> 192\u001b[0;31m         \u001b[0mestimator\u001b[0m \u001b[0;34m=\u001b[0m \u001b[0mclone\u001b[0m\u001b[0;34m(\u001b[0m\u001b[0mself\u001b[0m\u001b[0;34m.\u001b[0m\u001b[0mestimator_\u001b[0m\u001b[0;34m)\u001b[0m\u001b[0;34m\u001b[0m\u001b[0;34m\u001b[0m\u001b[0m\n\u001b[0m\u001b[1;32m    193\u001b[0m         \u001b[0mestimator\u001b[0m\u001b[0;34m.\u001b[0m\u001b[0mset_params\u001b[0m\u001b[0;34m(\u001b[0m\u001b[0;34m**\u001b[0m\u001b[0;34m{\u001b[0m\u001b[0mp\u001b[0m\u001b[0;34m:\u001b[0m \u001b[0mgetattr\u001b[0m\u001b[0;34m(\u001b[0m\u001b[0mself\u001b[0m\u001b[0;34m,\u001b[0m \u001b[0mp\u001b[0m\u001b[0;34m)\u001b[0m \u001b[0;32mfor\u001b[0m \u001b[0mp\u001b[0m \u001b[0;32min\u001b[0m \u001b[0mself\u001b[0m\u001b[0;34m.\u001b[0m\u001b[0mestimator_params\u001b[0m\u001b[0;34m}\u001b[0m\u001b[0;34m)\u001b[0m\u001b[0;34m\u001b[0m\u001b[0;34m\u001b[0m\u001b[0m\n\u001b[1;32m    194\u001b[0m \u001b[0;34m\u001b[0m\u001b[0m\n",
            "\u001b[0;32m/usr/local/lib/python3.10/dist-packages/sklearn/base.py\u001b[0m in \u001b[0;36mclone\u001b[0;34m(estimator, safe)\u001b[0m\n\u001b[1;32m     85\u001b[0m \u001b[0;34m\u001b[0m\u001b[0m\n\u001b[1;32m     86\u001b[0m     \u001b[0mklass\u001b[0m \u001b[0;34m=\u001b[0m \u001b[0mestimator\u001b[0m\u001b[0;34m.\u001b[0m\u001b[0m__class__\u001b[0m\u001b[0;34m\u001b[0m\u001b[0;34m\u001b[0m\u001b[0m\n\u001b[0;32m---> 87\u001b[0;31m     \u001b[0mnew_object_params\u001b[0m \u001b[0;34m=\u001b[0m \u001b[0mestimator\u001b[0m\u001b[0;34m.\u001b[0m\u001b[0mget_params\u001b[0m\u001b[0;34m(\u001b[0m\u001b[0mdeep\u001b[0m\u001b[0;34m=\u001b[0m\u001b[0;32mFalse\u001b[0m\u001b[0;34m)\u001b[0m\u001b[0;34m\u001b[0m\u001b[0;34m\u001b[0m\u001b[0m\n\u001b[0m\u001b[1;32m     88\u001b[0m     \u001b[0;32mfor\u001b[0m \u001b[0mname\u001b[0m\u001b[0;34m,\u001b[0m \u001b[0mparam\u001b[0m \u001b[0;32min\u001b[0m \u001b[0mnew_object_params\u001b[0m\u001b[0;34m.\u001b[0m\u001b[0mitems\u001b[0m\u001b[0;34m(\u001b[0m\u001b[0;34m)\u001b[0m\u001b[0;34m:\u001b[0m\u001b[0;34m\u001b[0m\u001b[0;34m\u001b[0m\u001b[0m\n\u001b[1;32m     89\u001b[0m         \u001b[0mnew_object_params\u001b[0m\u001b[0;34m[\u001b[0m\u001b[0mname\u001b[0m\u001b[0;34m]\u001b[0m \u001b[0;34m=\u001b[0m \u001b[0mclone\u001b[0m\u001b[0;34m(\u001b[0m\u001b[0mparam\u001b[0m\u001b[0;34m,\u001b[0m \u001b[0msafe\u001b[0m\u001b[0;34m=\u001b[0m\u001b[0;32mFalse\u001b[0m\u001b[0;34m)\u001b[0m\u001b[0;34m\u001b[0m\u001b[0;34m\u001b[0m\u001b[0m\n",
            "\u001b[0;32m/usr/local/lib/python3.10/dist-packages/sklearn/base.py\u001b[0m in \u001b[0;36mget_params\u001b[0;34m(self, deep)\u001b[0m\n\u001b[1;32m    167\u001b[0m         \"\"\"\n\u001b[1;32m    168\u001b[0m         \u001b[0mout\u001b[0m \u001b[0;34m=\u001b[0m \u001b[0mdict\u001b[0m\u001b[0;34m(\u001b[0m\u001b[0;34m)\u001b[0m\u001b[0;34m\u001b[0m\u001b[0;34m\u001b[0m\u001b[0m\n\u001b[0;32m--> 169\u001b[0;31m         \u001b[0;32mfor\u001b[0m \u001b[0mkey\u001b[0m \u001b[0;32min\u001b[0m \u001b[0mself\u001b[0m\u001b[0;34m.\u001b[0m\u001b[0m_get_param_names\u001b[0m\u001b[0;34m(\u001b[0m\u001b[0;34m)\u001b[0m\u001b[0;34m:\u001b[0m\u001b[0;34m\u001b[0m\u001b[0;34m\u001b[0m\u001b[0m\n\u001b[0m\u001b[1;32m    170\u001b[0m             \u001b[0mvalue\u001b[0m \u001b[0;34m=\u001b[0m \u001b[0mgetattr\u001b[0m\u001b[0;34m(\u001b[0m\u001b[0mself\u001b[0m\u001b[0;34m,\u001b[0m \u001b[0mkey\u001b[0m\u001b[0;34m)\u001b[0m\u001b[0;34m\u001b[0m\u001b[0;34m\u001b[0m\u001b[0m\n\u001b[1;32m    171\u001b[0m             \u001b[0;32mif\u001b[0m \u001b[0mdeep\u001b[0m \u001b[0;32mand\u001b[0m \u001b[0mhasattr\u001b[0m\u001b[0;34m(\u001b[0m\u001b[0mvalue\u001b[0m\u001b[0;34m,\u001b[0m \u001b[0;34m\"get_params\"\u001b[0m\u001b[0;34m)\u001b[0m \u001b[0;32mand\u001b[0m \u001b[0;32mnot\u001b[0m \u001b[0misinstance\u001b[0m\u001b[0;34m(\u001b[0m\u001b[0mvalue\u001b[0m\u001b[0;34m,\u001b[0m \u001b[0mtype\u001b[0m\u001b[0;34m)\u001b[0m\u001b[0;34m:\u001b[0m\u001b[0;34m\u001b[0m\u001b[0;34m\u001b[0m\u001b[0m\n",
            "\u001b[0;32m/usr/local/lib/python3.10/dist-packages/sklearn/base.py\u001b[0m in \u001b[0;36m_get_param_names\u001b[0;34m(cls)\u001b[0m\n\u001b[1;32m    132\u001b[0m         \u001b[0;31m# introspect the constructor arguments to find the model parameters\u001b[0m\u001b[0;34m\u001b[0m\u001b[0;34m\u001b[0m\u001b[0m\n\u001b[1;32m    133\u001b[0m         \u001b[0;31m# to represent\u001b[0m\u001b[0;34m\u001b[0m\u001b[0;34m\u001b[0m\u001b[0m\n\u001b[0;32m--> 134\u001b[0;31m         \u001b[0minit_signature\u001b[0m \u001b[0;34m=\u001b[0m \u001b[0minspect\u001b[0m\u001b[0;34m.\u001b[0m\u001b[0msignature\u001b[0m\u001b[0;34m(\u001b[0m\u001b[0minit\u001b[0m\u001b[0;34m)\u001b[0m\u001b[0;34m\u001b[0m\u001b[0;34m\u001b[0m\u001b[0m\n\u001b[0m\u001b[1;32m    135\u001b[0m         \u001b[0;31m# Consider the constructor parameters excluding 'self'\u001b[0m\u001b[0;34m\u001b[0m\u001b[0;34m\u001b[0m\u001b[0m\n\u001b[1;32m    136\u001b[0m         parameters = [\n",
            "\u001b[0;32m/usr/lib/python3.10/inspect.py\u001b[0m in \u001b[0;36msignature\u001b[0;34m(obj, follow_wrapped, globals, locals, eval_str)\u001b[0m\n\u001b[1;32m   3252\u001b[0m \u001b[0;32mdef\u001b[0m \u001b[0msignature\u001b[0m\u001b[0;34m(\u001b[0m\u001b[0mobj\u001b[0m\u001b[0;34m,\u001b[0m \u001b[0;34m*\u001b[0m\u001b[0;34m,\u001b[0m \u001b[0mfollow_wrapped\u001b[0m\u001b[0;34m=\u001b[0m\u001b[0;32mTrue\u001b[0m\u001b[0;34m,\u001b[0m \u001b[0mglobals\u001b[0m\u001b[0;34m=\u001b[0m\u001b[0;32mNone\u001b[0m\u001b[0;34m,\u001b[0m \u001b[0mlocals\u001b[0m\u001b[0;34m=\u001b[0m\u001b[0;32mNone\u001b[0m\u001b[0;34m,\u001b[0m \u001b[0meval_str\u001b[0m\u001b[0;34m=\u001b[0m\u001b[0;32mFalse\u001b[0m\u001b[0;34m)\u001b[0m\u001b[0;34m:\u001b[0m\u001b[0;34m\u001b[0m\u001b[0;34m\u001b[0m\u001b[0m\n\u001b[1;32m   3253\u001b[0m     \u001b[0;34m\"\"\"Get a signature object for the passed callable.\"\"\"\u001b[0m\u001b[0;34m\u001b[0m\u001b[0;34m\u001b[0m\u001b[0m\n\u001b[0;32m-> 3254\u001b[0;31m     return Signature.from_callable(obj, follow_wrapped=follow_wrapped,\n\u001b[0m\u001b[1;32m   3255\u001b[0m                                    globals=globals, locals=locals, eval_str=eval_str)\n\u001b[1;32m   3256\u001b[0m \u001b[0;34m\u001b[0m\u001b[0m\n",
            "\u001b[0;32m/usr/lib/python3.10/inspect.py\u001b[0m in \u001b[0;36mfrom_callable\u001b[0;34m(cls, obj, follow_wrapped, globals, locals, eval_str)\u001b[0m\n\u001b[1;32m   3000\u001b[0m                       follow_wrapped=True, globals=None, locals=None, eval_str=False):\n\u001b[1;32m   3001\u001b[0m         \u001b[0;34m\"\"\"Constructs Signature for the given callable object.\"\"\"\u001b[0m\u001b[0;34m\u001b[0m\u001b[0;34m\u001b[0m\u001b[0m\n\u001b[0;32m-> 3002\u001b[0;31m         return _signature_from_callable(obj, sigcls=cls,\n\u001b[0m\u001b[1;32m   3003\u001b[0m                                         \u001b[0mfollow_wrapper_chains\u001b[0m\u001b[0;34m=\u001b[0m\u001b[0mfollow_wrapped\u001b[0m\u001b[0;34m,\u001b[0m\u001b[0;34m\u001b[0m\u001b[0;34m\u001b[0m\u001b[0m\n\u001b[1;32m   3004\u001b[0m                                         globals=globals, locals=locals, eval_str=eval_str)\n",
            "\u001b[0;32m/usr/lib/python3.10/inspect.py\u001b[0m in \u001b[0;36m_signature_from_callable\u001b[0;34m(obj, follow_wrapper_chains, skip_bound_arg, globals, locals, eval_str, sigcls)\u001b[0m\n\u001b[1;32m   2461\u001b[0m         \u001b[0;31m# If it's a pure Python function, or an object that is duck type\u001b[0m\u001b[0;34m\u001b[0m\u001b[0;34m\u001b[0m\u001b[0m\n\u001b[1;32m   2462\u001b[0m         \u001b[0;31m# of a Python function (Cython functions, for instance), then:\u001b[0m\u001b[0;34m\u001b[0m\u001b[0;34m\u001b[0m\u001b[0m\n\u001b[0;32m-> 2463\u001b[0;31m         return _signature_from_function(sigcls, obj,\n\u001b[0m\u001b[1;32m   2464\u001b[0m                                         \u001b[0mskip_bound_arg\u001b[0m\u001b[0;34m=\u001b[0m\u001b[0mskip_bound_arg\u001b[0m\u001b[0;34m,\u001b[0m\u001b[0;34m\u001b[0m\u001b[0;34m\u001b[0m\u001b[0m\n\u001b[1;32m   2465\u001b[0m                                         globals=globals, locals=locals, eval_str=eval_str)\n",
            "\u001b[0;32m/usr/lib/python3.10/inspect.py\u001b[0m in \u001b[0;36m_signature_from_function\u001b[0;34m(cls, func, skip_bound_arg, globals, locals, eval_str)\u001b[0m\n\u001b[1;32m   2351\u001b[0m             \u001b[0mdefault\u001b[0m \u001b[0;34m=\u001b[0m \u001b[0mkwdefaults\u001b[0m\u001b[0;34m.\u001b[0m\u001b[0mget\u001b[0m\u001b[0;34m(\u001b[0m\u001b[0mname\u001b[0m\u001b[0;34m,\u001b[0m \u001b[0m_empty\u001b[0m\u001b[0;34m)\u001b[0m\u001b[0;34m\u001b[0m\u001b[0;34m\u001b[0m\u001b[0m\n\u001b[1;32m   2352\u001b[0m \u001b[0;34m\u001b[0m\u001b[0m\n\u001b[0;32m-> 2353\u001b[0;31m         \u001b[0mannotation\u001b[0m \u001b[0;34m=\u001b[0m \u001b[0mannotations\u001b[0m\u001b[0;34m.\u001b[0m\u001b[0mget\u001b[0m\u001b[0;34m(\u001b[0m\u001b[0mname\u001b[0m\u001b[0;34m,\u001b[0m \u001b[0m_empty\u001b[0m\u001b[0;34m)\u001b[0m\u001b[0;34m\u001b[0m\u001b[0;34m\u001b[0m\u001b[0m\n\u001b[0m\u001b[1;32m   2354\u001b[0m         parameters.append(Parameter(name, annotation=annotation,\n\u001b[1;32m   2355\u001b[0m                                     \u001b[0mkind\u001b[0m\u001b[0;34m=\u001b[0m\u001b[0m_KEYWORD_ONLY\u001b[0m\u001b[0;34m,\u001b[0m\u001b[0;34m\u001b[0m\u001b[0;34m\u001b[0m\u001b[0m\n",
            "\u001b[0;31mKeyboardInterrupt\u001b[0m: "
          ]
        }
      ]
    },
    {
      "cell_type": "markdown",
      "source": [
        "### Fitting Models With Calibration"
      ],
      "metadata": {
        "id": "ZBeecbmYUEO_"
      }
    },
    {
      "cell_type": "code",
      "execution_count": null,
      "metadata": {
        "id": "abNVArC8dKOQ"
      },
      "outputs": [],
      "source": [
        "calibrated_models = {}\n",
        "probas_dict = {}\n",
        "\n",
        "for name, model in tqdm(model_list, desc=\"Fitting models\"):\n",
        "    print(f\"\\nFitting {name}...\")\n",
        "    model.fit(\n",
        "        X_train, y_train\n",
        "    )  # This fits GridSearchCV which in turn finds the best estimator\n",
        "    print(f\"\\nBest parameters for {name}: \\n{model.best_params_}\")\n",
        "\n",
        "    # Create a calibrated classifier from the best estimator of the grid search\n",
        "    calibrated_clf = CalibratedClassifierCV(\n",
        "        model.best_estimator_,\n",
        "        method=\"isotonic\",\n",
        "        cv=5,\n",
        "    ).fit(X_train, y_train)\n",
        "\n",
        "    # Store the calibrated model for potential later use\n",
        "    calibrated_models[name] = calibrated_clf\n",
        "\n",
        "    # Predictions and probabilities from the calibrated model\n",
        "    model_scores = calibrated_clf.predict(X_test)\n",
        "    model_probas = calibrated_clf.predict_proba(X_test)[:, 1]\n",
        "\n",
        "    # Storing scores and probabilities in probas_dict\n",
        "    probas_dict[name + \"_score\"] = model_scores\n",
        "    probas_dict[name + \"_proba\"] = model_probas"
      ]
    },
    {
      "cell_type": "markdown",
      "source": [
        "### Calibration Curves"
      ],
      "metadata": {
        "id": "lCf9sacoTVKb"
      }
    },
    {
      "cell_type": "code",
      "source": [
        "custom_titles = {\n",
        "    \"grid_search_lr\": \"Logistic Regression\",\n",
        "    \"grid_search_svm\": \"Support Vector Machine\",\n",
        "    \"grid_search_rf\": \"Random Forest Classifier\",\n",
        "    \"grid_search_et\": \"ExtraTrees Classifier\",\n",
        "}\n",
        "\n",
        "# Loop through each model to create a side-by-side plot for non-calibrated and\n",
        "# calibrated models\n",
        "for name, model in model_list:\n",
        "    fig, (ax1, ax2) = plt.subplots(\n",
        "        1, 2, figsize=(10, 4)\n",
        "    )  # figsize adjusted for two subplots side by side\n",
        "\n",
        "    # Non-Calibrated Model\n",
        "    prob_true_non_calib, prob_pred_non_calib = calibration_curve(\n",
        "        y_test,\n",
        "        non_calibrated_probas_dict[f\"{name}_proba\"],\n",
        "        n_bins=10,\n",
        "        strategy=\"uniform\",\n",
        "    )\n",
        "    ax1.plot(\n",
        "        prob_pred_non_calib,\n",
        "        prob_true_non_calib,\n",
        "        marker=\"o\",\n",
        "        linestyle=\"--\",\n",
        "        color=\"tab:blue\",\n",
        "        label=\"Non-Calibrated\",\n",
        "    )\n",
        "    ax1.plot([0, 1], [0, 1], linestyle=\":\", color=\"gray\")\n",
        "    ax1.set_title(f\"{custom_titles[name]} Non-Calibrated\")  # Use custom title\n",
        "    ax1.set_xlabel(\"Mean predicted value\")\n",
        "    ax1.set_ylabel(\"Fraction of positives\")\n",
        "    ax1.legend()\n",
        "\n",
        "    # Calibrated Model\n",
        "    prob_true_calib, prob_pred_calib = calibration_curve(\n",
        "        y_test, probas_dict[f\"{name}_proba\"], n_bins=10, strategy=\"uniform\"\n",
        "    )\n",
        "    ax2.plot(\n",
        "        prob_pred_calib,\n",
        "        prob_true_calib,\n",
        "        marker=\"x\",\n",
        "        linestyle=\"-\",\n",
        "        color=\"tab:green\",\n",
        "        label=\"Calibrated\",\n",
        "    )\n",
        "    ax2.plot([0, 1], [0, 1], linestyle=\":\", color=\"gray\")\n",
        "    ax2.set_title(f\"{custom_titles[name]} Calibrated\")  # Use custom title\n",
        "    ax2.set_xlabel(\"Mean predicted value\")\n",
        "    ax2.legend()\n",
        "\n",
        "    fig.suptitle(f\"{custom_titles[name]}: Non-Calibrated vs. Calibrated\", fontsize=16)\n",
        "    plt.tight_layout(rect=[0, 0.03, 1, 0.95])\n",
        "    plt.show()"
      ],
      "metadata": {
        "id": "5QM6GDxTgjoT"
      },
      "execution_count": null,
      "outputs": []
    },
    {
      "cell_type": "code",
      "source": [
        "model_dict = {\n",
        "    \"Logistic Regression\": probas_dict[\"grid_search_lr_proba\"],\n",
        "    \"Support Vector Machine\": probas_dict[\"grid_search_svm_proba\"],\n",
        "    \"Random Forest Classifier\": probas_dict[\"grid_search_rf_proba\"],\n",
        "    \"ExtraTrees Classifier\": probas_dict[\"grid_search_et_proba\"],\n",
        "}\n",
        "\n",
        "plot_calibration_curves(y_true=y_test, model_dict=model_dict)"
      ],
      "metadata": {
        "id": "a8vARZHzbkBW"
      },
      "execution_count": null,
      "outputs": []
    },
    {
      "cell_type": "markdown",
      "source": [
        "## Performance Assessment"
      ],
      "metadata": {
        "id": "j_6c8zxgToyq"
      }
    },
    {
      "cell_type": "markdown",
      "source": [
        "### AUC ROC Curves by Model"
      ],
      "metadata": {
        "id": "O1hDu234Ts0f"
      }
    },
    {
      "cell_type": "code",
      "execution_count": null,
      "metadata": {
        "id": "eJM7Q578Dyvn"
      },
      "outputs": [],
      "source": [
        "plt.figure(figsize=(8,6))\n",
        "for name, proba in model_dict.items():\n",
        "    fpr, tpr, _ = roc_curve(y_test, proba)  # calculate values for TPR, FPR\n",
        "    auc_models = auc(fpr, tpr)  # calculate the auc for all models\n",
        "    plt.plot(fpr, tpr, label=f\"{name} (AUC = {auc_models:.2f})\")  # plot the ROC AUC\n",
        "\n",
        "plt.plot([0, 1], [0, 1], \"--\")\n",
        "plt.title(\"AUC ROC for All Models\")\n",
        "plt.xlabel(\"1 - Specificity\")\n",
        "plt.ylabel(\"Sensitivity\")\n",
        "plt.legend()\n",
        "plt.show()"
      ]
    },
    {
      "cell_type": "code",
      "source": [
        "metrics_df = evaluate_model_metrics(y_test=y_test, model_dict=model_dict, threshold=0.5)\n",
        "metrics_df"
      ],
      "metadata": {
        "id": "O6dFpoaFer6e"
      },
      "execution_count": null,
      "outputs": []
    },
    {
      "cell_type": "markdown",
      "source": [
        "### AUC ROC Curves by Feature"
      ],
      "metadata": {
        "id": "TaNViKHrbtu2"
      }
    },
    {
      "cell_type": "code",
      "source": [
        "# Dictionary of model predictions, assuming 'probas_dict' is defined\n",
        "model_predictions = probas_dict[\"grid_search_rf_proba\"]\n",
        "\n",
        "# Dictionary of custom category labels for each column\n",
        "# This assumes you have predefined labels for each category in your features\n",
        "category_label_dict = {\n",
        "    \"sex\": {1: \"Male\", 0: \"Female\"},\n",
        "    \"smoking\": {1: \"Smoker\", 0: \"Non-Smoker\"},\n",
        "    \"obesity\": {1: \"Obese\", 0: \"Not Obese\"},\n",
        "    \"hypertension\": {1: \"Hypertension\", 0: \"No Hypertension\"},\n",
        "    \"dyslipidemia\": {1: \"Dyslipidemia\", 0: \"No Dyslipidemia\"},\n",
        "    \"diabetes\": {1: \"Diabetes\", 0: \"No Diabetes\"},\n",
        "    \"cardiovascular_disease\": {1: \"CVD\", 0: \"No CVD\"}\n",
        "\n",
        "    # Add more feature_label pairs as needed\n",
        "}\n",
        "\n",
        "# Loop over each feature you want to create a ROC plot for\n",
        "\n",
        "for feature, category_labels in category_label_dict.items():\n",
        "    title = f\"AUC ROC Curves by {feature.replace('_', ' ').title()} Category\"\n",
        "    plt.figure(figsize=(8,6))\n",
        "    plot_roc_curves_by_category(\n",
        "        X_test=X_test,\n",
        "        y_test=y_test,\n",
        "        predictions=model_predictions,\n",
        "        feature=feature,\n",
        "        category_labels=category_labels,\n",
        "        outcome=\"outcome\",\n",
        "        title=title\n",
        "    )\n"
      ],
      "metadata": {
        "id": "FkuVMm0VaN6E"
      },
      "execution_count": null,
      "outputs": []
    },
    {
      "cell_type": "markdown",
      "source": [
        "## Save Best Model's Predictions"
      ],
      "metadata": {
        "id": "ARvShMnWyuMO"
      }
    },
    {
      "cell_type": "code",
      "source": [
        "model_df = pd.DataFrame(index=X_test.index)\n",
        "\n",
        "# Add the scores to the DataFrame\n",
        "for name, values in probas_dict.items():\n",
        "    if name.endswith(\"_score\"):\n",
        "        model_df[name] = values\n",
        "    elif name.endswith(\"_proba\"):\n",
        "        model_df[name] = values"
      ],
      "metadata": {
        "id": "AK8OIa-aTkCh"
      },
      "execution_count": null,
      "outputs": []
    },
    {
      "cell_type": "code",
      "source": [
        "pd.DataFrame(model_df[\"grid_search_rf_score\"]).to_parquet(\n",
        "    os.path.join(data_original, \"rf_score.parquet\")\n",
        ")"
      ],
      "metadata": {
        "id": "TrL6NtsLyvkF"
      },
      "execution_count": null,
      "outputs": []
    },
    {
      "cell_type": "markdown",
      "source": [
        "## References\n",
        "\n",
        "Al-Shamsi, S., Govender, R. D., & King, J. (2021). Predictive value of creatinine-based equations of kidney function in the long-term prognosis of United Arab Emirates patients with vascular risk. *Oman medical journal, 36*(1), e217. https://doi.org/10.5001/omj.2021.07\n",
        "\n",
        "\n",
        "Al-Shamsi, S., Govender, R. D., & King, J. (2019). Predictive value of creatinine-based equations of kidney function in the long-term prognosis of United Arab Emirates patients with vascular risk [Dataset]. Mendeley Data, V1. https://data.mendeley.com/datasets/ppfwfpprbc/1\n",
        "\n",
        "\n",
        "\n"
      ],
      "metadata": {
        "id": "X-32nZl0SIr9"
      }
    }
  ],
  "metadata": {
    "colab": {
      "provenance": []
    },
    "kernelspec": {
      "display_name": "Python 3",
      "name": "python3"
    },
    "language_info": {
      "name": "python"
    }
  },
  "nbformat": 4,
  "nbformat_minor": 0
}