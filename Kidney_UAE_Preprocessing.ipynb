{
  "cells": [
    {
      "cell_type": "code",
      "execution_count": 1,
      "metadata": {
        "colab": {
          "base_uri": "https://localhost:8080/"
        },
        "id": "t5QW-3GXVG6A",
        "outputId": "50eb213f-26e7-48d7-c94c-0e6eb827b092"
      },
      "outputs": [
        {
          "output_type": "stream",
          "name": "stdout",
          "text": [
            "Mounted at /content/drive\n",
            "/content/drive/MyDrive/kidney_uae\n",
            "env: BASH_ENV=activate.sh # Set BASH_ENV to activate virtual env\n",
            "\n",
            "Python 3.10.12\n"
          ]
        }
      ],
      "source": [
        "from google.colab import drive\n",
        "drive.mount(\"/content/drive\") # Mount Google Drive\n",
        "\n",
        "import sys # Add virtual env's site-packages to sys.path\n",
        "sys.path.append('/content/drive/MyDrive/ckd_env/lib/python3.10/site-packages')\n",
        "\n",
        "# Change working directory\n",
        "%cd '/content/drive/MyDrive/kidney_uae/'\n",
        "\n",
        "# Prepare activation script for virtual env\n",
        "!echo \"source /content/drive/MyDrive/ckd_env/bin/activate\" > activate.sh\n",
        "\n",
        "# Make scripts and binaries executable\n",
        "!chmod +x activate.sh\n",
        "!chmod +x /content/drive/MyDrive/ckd_env/bin/python\n",
        "!chmod +x /content/drive/MyDrive/ckd_env/bin/pip\n",
        "\n",
        "%env BASH_ENV=activate.sh # Set BASH_ENV to activate virtual env\n",
        "\n",
        "print() # New line for clarity\n",
        "!python --version # Check Python version\n"
      ]
    },
    {
      "cell_type": "markdown",
      "source": [
        "# Preprocessing: Kidney_UAE"
      ],
      "metadata": {
        "id": "ePDgKg6CQCS9"
      }
    },
    {
      "cell_type": "markdown",
      "metadata": {
        "id": "Ybt7eZRV45e6"
      },
      "source": [
        "## Load Requisite Libraries"
      ]
    },
    {
      "cell_type": "code",
      "execution_count": 2,
      "metadata": {
        "id": "oewfXGx-DuJP"
      },
      "outputs": [],
      "source": [
        "import pandas as pd\n",
        "import numpy as np\n",
        "import matplotlib.pyplot as plt\n",
        "import seaborn as sns\n",
        "import os\n",
        "\n",
        "from sklearn.model_selection import train_test_split\n",
        "\n",
        "from functions import *  # import custom functions"
      ]
    },
    {
      "cell_type": "markdown",
      "metadata": {
        "id": "TwINSlKQ43LQ"
      },
      "source": [
        "## Read File From Path and Explore Basic Structure"
      ]
    },
    {
      "cell_type": "code",
      "execution_count": 3,
      "metadata": {
        "id": "5pXDRXE1GXcZ"
      },
      "outputs": [],
      "source": [
        "# Change directory to where functions.py is located if it's not in '/content'\n",
        "data_path = \"/content/drive/MyDrive/kidney_uae/data\""
      ]
    },
    {
      "cell_type": "code",
      "execution_count": 4,
      "metadata": {
        "id": "2p7lav3TD-Oj"
      },
      "outputs": [],
      "source": [
        "# read in the data from an excel file\n",
        "df = pd.read_excel(os.path.join(data_path, \"kidney_uae.xlsx\")).set_index(\"id\")"
      ]
    },
    {
      "cell_type": "code",
      "execution_count": 5,
      "metadata": {
        "colab": {
          "base_uri": "https://localhost:8080/"
        },
        "id": "mFW9lIfwj2kC",
        "outputId": "557c9850-f2da-488d-c40f-add5c9f84069"
      },
      "outputs": [
        {
          "output_type": "stream",
          "name": "stdout",
          "text": [
            "There are 1186 rows and 11 columns in this dataset.\n"
          ]
        }
      ],
      "source": [
        "print(f\"There are {df.shape[0]} rows and {df.shape[1]} columns in this dataset.\")"
      ]
    },
    {
      "cell_type": "code",
      "execution_count": 6,
      "metadata": {
        "colab": {
          "base_uri": "https://localhost:8080/",
          "height": 238
        },
        "id": "Xn9uehEpGk7G",
        "outputId": "a82fccf5-e1f7-4750-bc34-093dadb489a9"
      },
      "outputs": [
        {
          "output_type": "execute_result",
          "data": {
            "text/plain": [
              "    sex  cancer  smoking  obesity  hypertension  dyslipidemia  diabetes  \\\n",
              "id                                                                        \n",
              "1     0       0        0        1             1             1         0   \n",
              "2     0       0        0        1             1             1         0   \n",
              "3     0       0        0        1             1             1         0   \n",
              "4     0       0        0        1             0             1         0   \n",
              "5     0       0        0        1             1             1         1   \n",
              "\n",
              "    cardiovascular_disease  creatnine  outcome  time(months)  \n",
              "id                                                            \n",
              "1                        0       59.0        0           116  \n",
              "2                        0       52.0        0           116  \n",
              "3                        0       57.0        0           101  \n",
              "4                        0       65.0        0           117  \n",
              "5                        0       70.0        0           119  "
            ],
            "text/html": [
              "\n",
              "  <div id=\"df-400058ee-f60a-459c-9834-5ccf9779a38e\" class=\"colab-df-container\">\n",
              "    <div>\n",
              "<style scoped>\n",
              "    .dataframe tbody tr th:only-of-type {\n",
              "        vertical-align: middle;\n",
              "    }\n",
              "\n",
              "    .dataframe tbody tr th {\n",
              "        vertical-align: top;\n",
              "    }\n",
              "\n",
              "    .dataframe thead th {\n",
              "        text-align: right;\n",
              "    }\n",
              "</style>\n",
              "<table border=\"1\" class=\"dataframe\">\n",
              "  <thead>\n",
              "    <tr style=\"text-align: right;\">\n",
              "      <th></th>\n",
              "      <th>sex</th>\n",
              "      <th>cancer</th>\n",
              "      <th>smoking</th>\n",
              "      <th>obesity</th>\n",
              "      <th>hypertension</th>\n",
              "      <th>dyslipidemia</th>\n",
              "      <th>diabetes</th>\n",
              "      <th>cardiovascular_disease</th>\n",
              "      <th>creatnine</th>\n",
              "      <th>outcome</th>\n",
              "      <th>time(months)</th>\n",
              "    </tr>\n",
              "    <tr>\n",
              "      <th>id</th>\n",
              "      <th></th>\n",
              "      <th></th>\n",
              "      <th></th>\n",
              "      <th></th>\n",
              "      <th></th>\n",
              "      <th></th>\n",
              "      <th></th>\n",
              "      <th></th>\n",
              "      <th></th>\n",
              "      <th></th>\n",
              "      <th></th>\n",
              "    </tr>\n",
              "  </thead>\n",
              "  <tbody>\n",
              "    <tr>\n",
              "      <th>1</th>\n",
              "      <td>0</td>\n",
              "      <td>0</td>\n",
              "      <td>0</td>\n",
              "      <td>1</td>\n",
              "      <td>1</td>\n",
              "      <td>1</td>\n",
              "      <td>0</td>\n",
              "      <td>0</td>\n",
              "      <td>59.0</td>\n",
              "      <td>0</td>\n",
              "      <td>116</td>\n",
              "    </tr>\n",
              "    <tr>\n",
              "      <th>2</th>\n",
              "      <td>0</td>\n",
              "      <td>0</td>\n",
              "      <td>0</td>\n",
              "      <td>1</td>\n",
              "      <td>1</td>\n",
              "      <td>1</td>\n",
              "      <td>0</td>\n",
              "      <td>0</td>\n",
              "      <td>52.0</td>\n",
              "      <td>0</td>\n",
              "      <td>116</td>\n",
              "    </tr>\n",
              "    <tr>\n",
              "      <th>3</th>\n",
              "      <td>0</td>\n",
              "      <td>0</td>\n",
              "      <td>0</td>\n",
              "      <td>1</td>\n",
              "      <td>1</td>\n",
              "      <td>1</td>\n",
              "      <td>0</td>\n",
              "      <td>0</td>\n",
              "      <td>57.0</td>\n",
              "      <td>0</td>\n",
              "      <td>101</td>\n",
              "    </tr>\n",
              "    <tr>\n",
              "      <th>4</th>\n",
              "      <td>0</td>\n",
              "      <td>0</td>\n",
              "      <td>0</td>\n",
              "      <td>1</td>\n",
              "      <td>0</td>\n",
              "      <td>1</td>\n",
              "      <td>0</td>\n",
              "      <td>0</td>\n",
              "      <td>65.0</td>\n",
              "      <td>0</td>\n",
              "      <td>117</td>\n",
              "    </tr>\n",
              "    <tr>\n",
              "      <th>5</th>\n",
              "      <td>0</td>\n",
              "      <td>0</td>\n",
              "      <td>0</td>\n",
              "      <td>1</td>\n",
              "      <td>1</td>\n",
              "      <td>1</td>\n",
              "      <td>1</td>\n",
              "      <td>0</td>\n",
              "      <td>70.0</td>\n",
              "      <td>0</td>\n",
              "      <td>119</td>\n",
              "    </tr>\n",
              "  </tbody>\n",
              "</table>\n",
              "</div>\n",
              "    <div class=\"colab-df-buttons\">\n",
              "\n",
              "  <div class=\"colab-df-container\">\n",
              "    <button class=\"colab-df-convert\" onclick=\"convertToInteractive('df-400058ee-f60a-459c-9834-5ccf9779a38e')\"\n",
              "            title=\"Convert this dataframe to an interactive table.\"\n",
              "            style=\"display:none;\">\n",
              "\n",
              "  <svg xmlns=\"http://www.w3.org/2000/svg\" height=\"24px\" viewBox=\"0 -960 960 960\">\n",
              "    <path d=\"M120-120v-720h720v720H120Zm60-500h600v-160H180v160Zm220 220h160v-160H400v160Zm0 220h160v-160H400v160ZM180-400h160v-160H180v160Zm440 0h160v-160H620v160ZM180-180h160v-160H180v160Zm440 0h160v-160H620v160Z\"/>\n",
              "  </svg>\n",
              "    </button>\n",
              "\n",
              "  <style>\n",
              "    .colab-df-container {\n",
              "      display:flex;\n",
              "      gap: 12px;\n",
              "    }\n",
              "\n",
              "    .colab-df-convert {\n",
              "      background-color: #E8F0FE;\n",
              "      border: none;\n",
              "      border-radius: 50%;\n",
              "      cursor: pointer;\n",
              "      display: none;\n",
              "      fill: #1967D2;\n",
              "      height: 32px;\n",
              "      padding: 0 0 0 0;\n",
              "      width: 32px;\n",
              "    }\n",
              "\n",
              "    .colab-df-convert:hover {\n",
              "      background-color: #E2EBFA;\n",
              "      box-shadow: 0px 1px 2px rgba(60, 64, 67, 0.3), 0px 1px 3px 1px rgba(60, 64, 67, 0.15);\n",
              "      fill: #174EA6;\n",
              "    }\n",
              "\n",
              "    .colab-df-buttons div {\n",
              "      margin-bottom: 4px;\n",
              "    }\n",
              "\n",
              "    [theme=dark] .colab-df-convert {\n",
              "      background-color: #3B4455;\n",
              "      fill: #D2E3FC;\n",
              "    }\n",
              "\n",
              "    [theme=dark] .colab-df-convert:hover {\n",
              "      background-color: #434B5C;\n",
              "      box-shadow: 0px 1px 3px 1px rgba(0, 0, 0, 0.15);\n",
              "      filter: drop-shadow(0px 1px 2px rgba(0, 0, 0, 0.3));\n",
              "      fill: #FFFFFF;\n",
              "    }\n",
              "  </style>\n",
              "\n",
              "    <script>\n",
              "      const buttonEl =\n",
              "        document.querySelector('#df-400058ee-f60a-459c-9834-5ccf9779a38e button.colab-df-convert');\n",
              "      buttonEl.style.display =\n",
              "        google.colab.kernel.accessAllowed ? 'block' : 'none';\n",
              "\n",
              "      async function convertToInteractive(key) {\n",
              "        const element = document.querySelector('#df-400058ee-f60a-459c-9834-5ccf9779a38e');\n",
              "        const dataTable =\n",
              "          await google.colab.kernel.invokeFunction('convertToInteractive',\n",
              "                                                    [key], {});\n",
              "        if (!dataTable) return;\n",
              "\n",
              "        const docLinkHtml = 'Like what you see? Visit the ' +\n",
              "          '<a target=\"_blank\" href=https://colab.research.google.com/notebooks/data_table.ipynb>data table notebook</a>'\n",
              "          + ' to learn more about interactive tables.';\n",
              "        element.innerHTML = '';\n",
              "        dataTable['output_type'] = 'display_data';\n",
              "        await google.colab.output.renderOutput(dataTable, element);\n",
              "        const docLink = document.createElement('div');\n",
              "        docLink.innerHTML = docLinkHtml;\n",
              "        element.appendChild(docLink);\n",
              "      }\n",
              "    </script>\n",
              "  </div>\n",
              "\n",
              "\n",
              "<div id=\"df-8226a62b-ac9f-4717-a44d-8e102bc46fdb\">\n",
              "  <button class=\"colab-df-quickchart\" onclick=\"quickchart('df-8226a62b-ac9f-4717-a44d-8e102bc46fdb')\"\n",
              "            title=\"Suggest charts\"\n",
              "            style=\"display:none;\">\n",
              "\n",
              "<svg xmlns=\"http://www.w3.org/2000/svg\" height=\"24px\"viewBox=\"0 0 24 24\"\n",
              "     width=\"24px\">\n",
              "    <g>\n",
              "        <path d=\"M19 3H5c-1.1 0-2 .9-2 2v14c0 1.1.9 2 2 2h14c1.1 0 2-.9 2-2V5c0-1.1-.9-2-2-2zM9 17H7v-7h2v7zm4 0h-2V7h2v10zm4 0h-2v-4h2v4z\"/>\n",
              "    </g>\n",
              "</svg>\n",
              "  </button>\n",
              "\n",
              "<style>\n",
              "  .colab-df-quickchart {\n",
              "      --bg-color: #E8F0FE;\n",
              "      --fill-color: #1967D2;\n",
              "      --hover-bg-color: #E2EBFA;\n",
              "      --hover-fill-color: #174EA6;\n",
              "      --disabled-fill-color: #AAA;\n",
              "      --disabled-bg-color: #DDD;\n",
              "  }\n",
              "\n",
              "  [theme=dark] .colab-df-quickchart {\n",
              "      --bg-color: #3B4455;\n",
              "      --fill-color: #D2E3FC;\n",
              "      --hover-bg-color: #434B5C;\n",
              "      --hover-fill-color: #FFFFFF;\n",
              "      --disabled-bg-color: #3B4455;\n",
              "      --disabled-fill-color: #666;\n",
              "  }\n",
              "\n",
              "  .colab-df-quickchart {\n",
              "    background-color: var(--bg-color);\n",
              "    border: none;\n",
              "    border-radius: 50%;\n",
              "    cursor: pointer;\n",
              "    display: none;\n",
              "    fill: var(--fill-color);\n",
              "    height: 32px;\n",
              "    padding: 0;\n",
              "    width: 32px;\n",
              "  }\n",
              "\n",
              "  .colab-df-quickchart:hover {\n",
              "    background-color: var(--hover-bg-color);\n",
              "    box-shadow: 0 1px 2px rgba(60, 64, 67, 0.3), 0 1px 3px 1px rgba(60, 64, 67, 0.15);\n",
              "    fill: var(--button-hover-fill-color);\n",
              "  }\n",
              "\n",
              "  .colab-df-quickchart-complete:disabled,\n",
              "  .colab-df-quickchart-complete:disabled:hover {\n",
              "    background-color: var(--disabled-bg-color);\n",
              "    fill: var(--disabled-fill-color);\n",
              "    box-shadow: none;\n",
              "  }\n",
              "\n",
              "  .colab-df-spinner {\n",
              "    border: 2px solid var(--fill-color);\n",
              "    border-color: transparent;\n",
              "    border-bottom-color: var(--fill-color);\n",
              "    animation:\n",
              "      spin 1s steps(1) infinite;\n",
              "  }\n",
              "\n",
              "  @keyframes spin {\n",
              "    0% {\n",
              "      border-color: transparent;\n",
              "      border-bottom-color: var(--fill-color);\n",
              "      border-left-color: var(--fill-color);\n",
              "    }\n",
              "    20% {\n",
              "      border-color: transparent;\n",
              "      border-left-color: var(--fill-color);\n",
              "      border-top-color: var(--fill-color);\n",
              "    }\n",
              "    30% {\n",
              "      border-color: transparent;\n",
              "      border-left-color: var(--fill-color);\n",
              "      border-top-color: var(--fill-color);\n",
              "      border-right-color: var(--fill-color);\n",
              "    }\n",
              "    40% {\n",
              "      border-color: transparent;\n",
              "      border-right-color: var(--fill-color);\n",
              "      border-top-color: var(--fill-color);\n",
              "    }\n",
              "    60% {\n",
              "      border-color: transparent;\n",
              "      border-right-color: var(--fill-color);\n",
              "    }\n",
              "    80% {\n",
              "      border-color: transparent;\n",
              "      border-right-color: var(--fill-color);\n",
              "      border-bottom-color: var(--fill-color);\n",
              "    }\n",
              "    90% {\n",
              "      border-color: transparent;\n",
              "      border-bottom-color: var(--fill-color);\n",
              "    }\n",
              "  }\n",
              "</style>\n",
              "\n",
              "  <script>\n",
              "    async function quickchart(key) {\n",
              "      const quickchartButtonEl =\n",
              "        document.querySelector('#' + key + ' button');\n",
              "      quickchartButtonEl.disabled = true;  // To prevent multiple clicks.\n",
              "      quickchartButtonEl.classList.add('colab-df-spinner');\n",
              "      try {\n",
              "        const charts = await google.colab.kernel.invokeFunction(\n",
              "            'suggestCharts', [key], {});\n",
              "      } catch (error) {\n",
              "        console.error('Error during call to suggestCharts:', error);\n",
              "      }\n",
              "      quickchartButtonEl.classList.remove('colab-df-spinner');\n",
              "      quickchartButtonEl.classList.add('colab-df-quickchart-complete');\n",
              "    }\n",
              "    (() => {\n",
              "      let quickchartButtonEl =\n",
              "        document.querySelector('#df-8226a62b-ac9f-4717-a44d-8e102bc46fdb button');\n",
              "      quickchartButtonEl.style.display =\n",
              "        google.colab.kernel.accessAllowed ? 'block' : 'none';\n",
              "    })();\n",
              "  </script>\n",
              "</div>\n",
              "    </div>\n",
              "  </div>\n"
            ],
            "application/vnd.google.colaboratory.intrinsic+json": {
              "type": "dataframe",
              "variable_name": "df",
              "summary": "{\n  \"name\": \"df\",\n  \"rows\": 1186,\n  \"fields\": [\n    {\n      \"column\": \"id\",\n      \"properties\": {\n        \"dtype\": \"number\",\n        \"std\": 717,\n        \"min\": 1,\n        \"max\": 2423,\n        \"num_unique_values\": 1186,\n        \"samples\": [\n          347,\n          1648,\n          2420\n        ],\n        \"semantic_type\": \"\",\n        \"description\": \"\"\n      }\n    },\n    {\n      \"column\": \"sex\",\n      \"properties\": {\n        \"dtype\": \"number\",\n        \"std\": 0,\n        \"min\": 0,\n        \"max\": 1,\n        \"num_unique_values\": 2,\n        \"samples\": [\n          1,\n          0\n        ],\n        \"semantic_type\": \"\",\n        \"description\": \"\"\n      }\n    },\n    {\n      \"column\": \"cancer\",\n      \"properties\": {\n        \"dtype\": \"number\",\n        \"std\": 0,\n        \"min\": 0,\n        \"max\": 1,\n        \"num_unique_values\": 2,\n        \"samples\": [\n          1,\n          0\n        ],\n        \"semantic_type\": \"\",\n        \"description\": \"\"\n      }\n    },\n    {\n      \"column\": \"smoking\",\n      \"properties\": {\n        \"dtype\": \"number\",\n        \"std\": 0,\n        \"min\": 0,\n        \"max\": 1,\n        \"num_unique_values\": 2,\n        \"samples\": [\n          1,\n          0\n        ],\n        \"semantic_type\": \"\",\n        \"description\": \"\"\n      }\n    },\n    {\n      \"column\": \"obesity\",\n      \"properties\": {\n        \"dtype\": \"number\",\n        \"std\": 0,\n        \"min\": 0,\n        \"max\": 1,\n        \"num_unique_values\": 2,\n        \"samples\": [\n          0,\n          1\n        ],\n        \"semantic_type\": \"\",\n        \"description\": \"\"\n      }\n    },\n    {\n      \"column\": \"hypertension\",\n      \"properties\": {\n        \"dtype\": \"number\",\n        \"std\": 0,\n        \"min\": 0,\n        \"max\": 1,\n        \"num_unique_values\": 2,\n        \"samples\": [\n          0,\n          1\n        ],\n        \"semantic_type\": \"\",\n        \"description\": \"\"\n      }\n    },\n    {\n      \"column\": \"dyslipidemia\",\n      \"properties\": {\n        \"dtype\": \"number\",\n        \"std\": 0,\n        \"min\": 0,\n        \"max\": 1,\n        \"num_unique_values\": 2,\n        \"samples\": [\n          0,\n          1\n        ],\n        \"semantic_type\": \"\",\n        \"description\": \"\"\n      }\n    },\n    {\n      \"column\": \"diabetes\",\n      \"properties\": {\n        \"dtype\": \"number\",\n        \"std\": 0,\n        \"min\": 0,\n        \"max\": 1,\n        \"num_unique_values\": 2,\n        \"samples\": [\n          1,\n          0\n        ],\n        \"semantic_type\": \"\",\n        \"description\": \"\"\n      }\n    },\n    {\n      \"column\": \"cardiovascular_disease\",\n      \"properties\": {\n        \"dtype\": \"number\",\n        \"std\": 0,\n        \"min\": 0,\n        \"max\": 1,\n        \"num_unique_values\": 2,\n        \"samples\": [\n          1,\n          0\n        ],\n        \"semantic_type\": \"\",\n        \"description\": \"\"\n      }\n    },\n    {\n      \"column\": \"creatnine\",\n      \"properties\": {\n        \"dtype\": \"number\",\n        \"std\": 31.020905946553896,\n        \"min\": 27.0,\n        \"max\": 385.0,\n        \"num_unique_values\": 166,\n        \"samples\": [\n          114.0,\n          89.7\n        ],\n        \"semantic_type\": \"\",\n        \"description\": \"\"\n      }\n    },\n    {\n      \"column\": \"outcome\",\n      \"properties\": {\n        \"dtype\": \"number\",\n        \"std\": 0,\n        \"min\": 0,\n        \"max\": 1,\n        \"num_unique_values\": 2,\n        \"samples\": [\n          1,\n          0\n        ],\n        \"semantic_type\": \"\",\n        \"description\": \"\"\n      }\n    },\n    {\n      \"column\": \"time(months)\",\n      \"properties\": {\n        \"dtype\": \"number\",\n        \"std\": 27,\n        \"min\": 0,\n        \"max\": 123,\n        \"num_unique_values\": 116,\n        \"samples\": [\n          53,\n          111\n        ],\n        \"semantic_type\": \"\",\n        \"description\": \"\"\n      }\n    }\n  ]\n}"
            }
          },
          "metadata": {},
          "execution_count": 6
        }
      ],
      "source": [
        "df.head()  # print first 5 rows of dataframe"
      ]
    },
    {
      "cell_type": "markdown",
      "source": [
        "## Reorder and Rename Columns"
      ],
      "metadata": {
        "id": "8_NdA4nLRS8T"
      }
    },
    {
      "cell_type": "code",
      "execution_count": 7,
      "metadata": {
        "id": "s4dDc3vsHxsB"
      },
      "outputs": [],
      "source": [
        "# Shift column 'time(months)' one place to the left\n",
        "df = move_column_before(\n",
        "    df=df,\n",
        "    target_column=\"time(months)\",\n",
        "    before_column=\"sex\",\n",
        ")"
      ]
    },
    {
      "cell_type": "code",
      "execution_count": 8,
      "metadata": {
        "colab": {
          "base_uri": "https://localhost:8080/"
        },
        "id": "QbzyZVjqQzI-",
        "outputId": "bd4209a0-8bbb-433c-8813-a7f27f55f9bc"
      },
      "outputs": [
        {
          "output_type": "stream",
          "name": "stdout",
          "text": [
            "New order of columns: ['time(months)', 'sex', 'cancer', 'smoking', 'obesity', 'hypertension', 'dyslipidemia', 'diabetes', 'cardiovascular_disease', 'creatnine', 'outcome']\n"
          ]
        }
      ],
      "source": [
        "print(f\"New order of columns: {df.columns.to_list()}\")  # list new order of cols"
      ]
    },
    {
      "cell_type": "code",
      "execution_count": 9,
      "metadata": {
        "id": "idT0zLlYJxLm"
      },
      "outputs": [],
      "source": [
        "# rename the following colnames: time(months), creatnine\n",
        "df.rename(\n",
        "    columns={\"time(months)\": \"time_months\", \"creatnine\": \"creatinine\"},\n",
        "    inplace=True,\n",
        ")"
      ]
    },
    {
      "cell_type": "markdown",
      "source": [
        "## Create EDA Dataset"
      ],
      "metadata": {
        "id": "77JgCiyWRbOM"
      }
    },
    {
      "cell_type": "code",
      "execution_count": 10,
      "metadata": {
        "id": "Y10ROOEbIOyQ"
      },
      "outputs": [],
      "source": [
        "df_eda = df.copy(deep=True) # create new dataframe specifically for EDA\n",
        "df_eda[\"time_years\"] = round(df_eda[\"time_months\"] / 12, 1)"
      ]
    },
    {
      "cell_type": "code",
      "execution_count": 11,
      "metadata": {
        "id": "ipq_bDcaKomD"
      },
      "outputs": [],
      "source": [
        "# Define bins so that there's a clear bin for > 10 up to max\n",
        "# (and potentially slightly beyond)\n",
        "# Note: The last bin captures all values from 10.0 up to and including max and\n",
        "# slightly beyond, if necessary\n",
        "year_bins = [0, 1, 2, 3, 4, 5, 6, 7, 8, 9, 10, float(\"inf\")]\n",
        "year_labels = [\n",
        "    \"0-1_years\",\n",
        "    \"1-2_years\",\n",
        "    \"2-3_years\",\n",
        "    \"3-4_years\",\n",
        "    \"4-5_years\",\n",
        "    \"5-6_years\",\n",
        "    \"6-7_years\",\n",
        "    \"7-8_years\",\n",
        "    \"8-9_years\",\n",
        "    \"9-10_years\",\n",
        "    \"10_years_plus\",\n",
        "]\n",
        "\n",
        "# Apply the binning\n",
        "df_eda[\"year_bins\"] = pd.cut(\n",
        "    df_eda[\"time_years\"],\n",
        "    bins=year_bins,\n",
        "    labels=year_labels,\n",
        "    include_lowest=True,\n",
        "    right=True,\n",
        ")"
      ]
    },
    {
      "cell_type": "code",
      "execution_count": 12,
      "metadata": {
        "id": "GkPWC-hgIFsS"
      },
      "outputs": [],
      "source": [
        "# create separate dataframe for expanded modeling with one-hot-encoded year bins\n",
        "df_years = (\n",
        "    df_eda.copy(deep=True)\n",
        "    .assign(**pd.get_dummies(df_eda[\"year_bins\"]))\n",
        "    .drop(columns=[\"time_months\", \"time_years\", \"year_bins\"])\n",
        ")"
      ]
    },
    {
      "cell_type": "markdown",
      "metadata": {
        "id": "TtKAHFLq6jAe"
      },
      "source": [
        "## Split the Data and Export Datasets to Path"
      ]
    },
    {
      "cell_type": "code",
      "execution_count": 13,
      "metadata": {
        "id": "IC-RUtGDbu74"
      },
      "outputs": [],
      "source": [
        "# Dictionary with the data frame names as keys and the data frames as values\n",
        "model_frames = {\"df_original\": df, \"df_years\": df_years, \"df_eda\": df_eda}\n",
        "base_output_dir = data_path  # Base directory to save the splits\n",
        "\n",
        "########################### Stratification parameters ##########################\n",
        "stratify_years = [col for col in df_years.columns if \"_years\" in col]\n",
        "stratify_regular = [\"sex\"]\n",
        "################################################################################\n",
        "\n",
        "for frame_name, frame_data in model_frames.items():\n",
        "    # Independent variables, excluding 'outcome'\n",
        "    X = frame_data[[col for col in frame_data.columns if col != \"outcome\"]]\n",
        "    # Dependent variable\n",
        "    y = frame_data[\"outcome\"]\n",
        "\n",
        "    # if original dataframe, stratify by 'sex', otherwise, stratify by 'years'\n",
        "    if frame_name == \"df_original\":\n",
        "        stratify_by = frame_data[stratify_regular]\n",
        "    elif frame_name == \"df_years\":\n",
        "        stratify_by = frame_data[stratify_years]\n",
        "    else:\n",
        "        stratify_by = None\n",
        "\n",
        "    # Train-test split the data\n",
        "    X_train, X_test, y_train, y_test = train_test_split(\n",
        "        X,\n",
        "        y,\n",
        "        test_size=0.2,\n",
        "        stratify=stratify_by,\n",
        "        random_state=222,\n",
        "    )\n",
        "\n",
        "    # Directory for this data frame's splits\n",
        "    output_dir = os.path.join(base_output_dir, frame_name)\n",
        "    os.makedirs(output_dir, exist_ok=True)  # Ensure the directory exists\n",
        "    frame_data.to_parquet(\n",
        "        os.path.join(output_dir, f\"{frame_name}.parquet\")\n",
        "    )  # export out EDA dataset\n",
        "\n",
        "    # Check to only save splits if not working with df_eda\n",
        "    if frame_name != \"df_eda\":\n",
        "        dataset_dict = {\n",
        "            \"X_train\": X_train,\n",
        "            \"X_test\": X_test,\n",
        "            \"y_train\": y_train,\n",
        "            \"y_test\": y_test,\n",
        "        }\n",
        "\n",
        "        # save out X_train, X_test, y_train, y_test to appropriate path(s)\n",
        "        for name, item in dataset_dict.items():\n",
        "            file_path = os.path.join(\n",
        "                output_dir, f\"{name}.parquet\"\n",
        "            )  # Correctly define the file path\n",
        "            if not isinstance(item, pd.DataFrame):\n",
        "                item.to_frame(name=\"outcome\").to_parquet(\n",
        "                    file_path\n",
        "                )  # Convert Series to DataFrame and save\n",
        "            else:\n",
        "                item.to_parquet(file_path)  # Save DataFrame directly\n",
        "\n",
        "    # Check if the DataFrame is not 'df_eda', then save the joined X_train,\n",
        "    # y_train, and X_test, y_test DataFrames\n",
        "    if frame_name != \"df_eda\":\n",
        "        train_data = X_train.join(y_train, on=\"id\", how=\"inner\")\n",
        "        test_data = X_test.join(y_test, on=\"id\", how=\"inner\")\n",
        "        train_data.to_parquet(os.path.join(output_dir, \"df_train.parquet\"))\n",
        "        test_data.to_parquet(os.path.join(output_dir, \"df_test.parquet\"))"
      ]
    },
    {
      "cell_type": "code",
      "execution_count": 14,
      "metadata": {
        "colab": {
          "base_uri": "https://localhost:8080/"
        },
        "id": "ogOGzG7g2r0Z",
        "outputId": "e2dac172-b88e-4890-e195-23945079640a"
      },
      "outputs": [
        {
          "output_type": "stream",
          "name": "stdout",
          "text": [
            "Training Size = 948\n",
            "Test Size = 238\n",
            "\n",
            "Training Percentage = 80%\n",
            "Test Percentage = 20%\n"
          ]
        }
      ],
      "source": [
        "print(f\"Training Size = {X_train.shape[0]}\")\n",
        "print(f\"Test Size = {X_test.shape[0]}\")\n",
        "print()\n",
        "print(\n",
        "    f\"Training Percentage = {X_train.shape[0] / (X_train.shape[0] + X_test.shape[0])*100:.0f}%\"\n",
        ")\n",
        "print(\n",
        "    f\"Test Percentage = {X_test.shape[0] / (X_train.shape[0] + X_test.shape[0])*100:.0f}%\"\n",
        ")"
      ]
    },
    {
      "cell_type": "markdown",
      "metadata": {
        "id": "0Eg70lHpH7Tt"
      },
      "source": [
        "## References\n",
        "\n",
        "Al-Shamsi, S., Govender, R. D., & King, J. (2021). Predictive value of creatinine-based equations of kidney function in the long-term prognosis of United Arab Emirates patients with vascular risk. *Oman medical journal, 36*(1), e217. https://doi.org/10.5001/omj.2021.07\n",
        "\n",
        "\n",
        "Al-Shamsi, S., Govender, R. D., & King, J. (2019). Predictive value of creatinine-based equations of kidney function in the long-term prognosis of United Arab Emirates patients with vascular risk [Dataset]. Mendeley Data, V1. https://data.mendeley.com/datasets/ppfwfpprbc/1\n",
        "\n",
        "\n",
        "\n"
      ]
    }
  ],
  "metadata": {
    "colab": {
      "provenance": []
    },
    "kernelspec": {
      "display_name": "Python 3",
      "name": "python3"
    },
    "language_info": {
      "name": "python"
    }
  },
  "nbformat": 4,
  "nbformat_minor": 0
}